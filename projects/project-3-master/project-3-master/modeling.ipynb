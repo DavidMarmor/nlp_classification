{
 "cells": [
  {
   "cell_type": "markdown",
   "id": "d22b106b-5cac-4970-8753-a3a0139570c8",
   "metadata": {},
   "source": [
    "# NLP modeling on baseball subreddits"
   ]
  },
  {
   "cell_type": "code",
   "execution_count": 74,
   "id": "d91d1bcb-fe7c-432e-b316-93423b864712",
   "metadata": {},
   "outputs": [],
   "source": [
    "# imports\n",
    "import pandas as pd\n",
    "import matplotlib.pyplot as plt\n",
    "from sklearn.model_selection import train_test_split, GridSearchCV, cross_val_score\n",
    "from sklearn.pipeline import Pipeline\n",
    "from sklearn.naive_bayes import MultinomialNB\n",
    "from sklearn.linear_model import LogisticRegression\n",
    "from sklearn.metrics import confusion_matrix, plot_confusion_matrix\n",
    "from sklearn.neighbors import KNeighborsClassifier\n",
    "from sklearn.feature_extraction.text import CountVectorizer, TfidfVectorizer\n",
    "from sklearn.ensemble import RandomForestClassifier, ExtraTreesClassifier\n",
    "from sklearn.ensemble import AdaBoostClassifier"
   ]
  },
  {
   "cell_type": "markdown",
   "id": "20b263b5-ac6f-4237-a6e1-12da7ae61aa9",
   "metadata": {},
   "source": [
    "# EDA "
   ]
  },
  {
   "cell_type": "code",
   "execution_count": 2,
   "id": "a6edc8f4-6696-42ef-b395-3d821d9af9ef",
   "metadata": {},
   "outputs": [],
   "source": [
    "df = pd.read_csv('data.csv')"
   ]
  },
  {
   "cell_type": "code",
   "execution_count": 3,
   "id": "377340a6-feb4-4e72-8477-3e5dce4a2727",
   "metadata": {},
   "outputs": [
    {
     "name": "stdout",
     "output_type": "stream",
     "text": [
      "<class 'pandas.core.frame.DataFrame'>\n",
      "RangeIndex: 3091 entries, 0 to 3090\n",
      "Data columns (total 2 columns):\n",
      " #   Column     Non-Null Count  Dtype \n",
      "---  ------     --------------  ----- \n",
      " 0   selftext   3091 non-null   object\n",
      " 1   subreddit  3091 non-null   int64 \n",
      "dtypes: int64(1), object(1)\n",
      "memory usage: 48.4+ KB\n"
     ]
    }
   ],
   "source": [
    "df.info() #check the dataset "
   ]
  },
  {
   "cell_type": "markdown",
   "id": "10f92e74-e09d-47f7-acde-6c60f3fa901e",
   "metadata": {},
   "source": [
    "We are going to predict the sub reddit based on the posts themselves which are called self text."
   ]
  },
  {
   "cell_type": "code",
   "execution_count": 4,
   "id": "208b144b-6aa6-409e-b4e2-804fa4a6a8b5",
   "metadata": {
    "tags": []
   },
   "outputs": [],
   "source": [
    "X = df['selftext']\n",
    "y= df['subreddit']"
   ]
  },
  {
   "cell_type": "code",
   "execution_count": 5,
   "id": "1437515b-a367-4cab-9ad7-48be54fd514d",
   "metadata": {},
   "outputs": [
    {
     "data": {
      "text/plain": [
       "0    0.507279\n",
       "1    0.492721\n",
       "Name: subreddit, dtype: float64"
      ]
     },
     "execution_count": 5,
     "metadata": {},
     "output_type": "execute_result"
    }
   ],
   "source": [
    "y.value_counts(normalize = True)"
   ]
  },
  {
   "cell_type": "markdown",
   "id": "aeb147b9-c9e1-465d-b6ad-f57c7139cc67",
   "metadata": {},
   "source": [
    "The baseline for the model is 50.7%. There are slightly more posts from the mlb subreddit than the sabermetrics one. It is close enough to 50% that it should not be a serious problem. If our model is more than accurate then the baseline it could be useful. A score that beats the baseline by a bit would suggest that different baseball subreddits talk about the game in different ways so MLB should tailor their ad campaigns by group."
   ]
  },
  {
   "cell_type": "markdown",
   "id": "e5e83b45-9136-4291-98b2-9c8fb48aee7c",
   "metadata": {},
   "source": [
    "EDA for nlp is somewhat limited but we can get a bar chart of the most common words that are not stop words. Stop words are very common words that aren't really relevent to the subreddit distinction (like the, this, etc)."
   ]
  },
  {
   "cell_type": "code",
   "execution_count": 6,
   "id": "37ca8243-fc78-4657-9a49-29e209aea0cf",
   "metadata": {},
   "outputs": [],
   "source": [
    "cvec = CountVectorizer(stop_words='english',max_df=.98)"
   ]
  },
  {
   "cell_type": "code",
   "execution_count": 7,
   "id": "bf780635-89a5-46a9-a1ed-9c09eed29956",
   "metadata": {},
   "outputs": [],
   "source": [
    "Xcvec = cvec.fit_transform(X)"
   ]
  },
  {
   "cell_type": "code",
   "execution_count": 8,
   "id": "6131cdfa-6cd4-4ad1-bfef-4ee2d6e745cc",
   "metadata": {},
   "outputs": [
    {
     "data": {
      "image/png": "[encoded data removed]",
      "text/plain": [
       "<Figure size 432x288 with 1 Axes>"
      ]
     },
     "metadata": {
      "needs_background": "light"
     },
     "output_type": "display_data"
    }
   ],
   "source": [
    "Xcv = pd.DataFrame(Xcvec.todense(), \n",
    "                          columns=cvec.get_feature_names())\n",
    "\n",
    "Xcv.head()\n",
    "\n",
    "\n",
    "# plot top occuring words\n",
    "Xcv.sum().sort_values(ascending = False).head(10).plot(kind = 'barh');"
   ]
  },
  {
   "cell_type": "markdown",
   "id": "538eb5ff-192c-49c0-99d6-5c9b69c19457",
   "metadata": {},
   "source": [
    "It makes sense that baseball is the most common word. Many of the words here are baseball related like game, mlb, and season."
   ]
  },
  {
   "cell_type": "markdown",
   "id": "34447c85-976d-4f91-b3c2-3060f687e233",
   "metadata": {},
   "source": [
    "# Modeling"
   ]
  },
  {
   "cell_type": "markdown",
   "id": "20e71a52-0f09-4998-8439-9c4412ed6287",
   "metadata": {},
   "source": [
    "The next step is to model the data to see if we can predict which subreddit the data comes from. We will use four types of models. They are ada boosting, random forests, logistic regression, and naive bayes. We will pick the best one to use going forward. In addition for each model we will use CountVectorizer and TfidVectorizer to see which makes our model more accurate and tune over hyperparameters for both our vectorizer and our model."
   ]
  },
  {
   "cell_type": "code",
   "execution_count": 9,
   "id": "1eb31c27-6d88-4ecc-a881-7a0573edf9b1",
   "metadata": {},
   "outputs": [],
   "source": [
    "X_train, X_test, y_train, y_test = train_test_split(X,\n",
    "                                                    y,\n",
    "                                                    stratify=y, # now we have the same ratio of both classes in the train and test data\n",
    "                                                    random_state=5)"
   ]
  },
  {
   "cell_type": "markdown",
   "id": "c7be6982-b3f0-42b4-ba1f-ddece25ff87c",
   "metadata": {},
   "source": [
    "Now that the data is split into train and test sets it is time to perform the models."
   ]
  },
  {
   "cell_type": "markdown",
   "id": "d22bb4f3-aeb2-4afa-9ff2-e7105b22b659",
   "metadata": {
    "tags": []
   },
   "source": [
    "# AdaBoost"
   ]
  },
  {
   "cell_type": "markdown",
   "id": "9d2e00c8-d581-4f7c-99d3-f0c5cb38e1df",
   "metadata": {},
   "source": [
    "AdaBoost is a boosting model that improves decision trees."
   ]
  },
  {
   "cell_type": "code",
   "execution_count": 61,
   "id": "ec6ad647-fc89-4207-b584-659ac24990a0",
   "metadata": {},
   "outputs": [],
   "source": [
    "pipe1 = Pipeline([\n",
    "    ('cvec', CountVectorizer()),\n",
    "    ('model', AdaBoostClassifier())\n",
    "])"
   ]
  },
  {
   "cell_type": "markdown",
   "id": "e13d3dd2-7702-4af0-92dd-843b3195fed4",
   "metadata": {},
   "source": [
    "The AdaBoost model did better with CountVectorizer than the TFidVectorizer. The AdaBoost TFidVectorizer model can be found in the other models notebook."
   ]
  },
  {
   "cell_type": "code",
   "execution_count": 62,
   "id": "6fa610c1-d7d1-4145-9ed2-a0a7c6a54047",
   "metadata": {},
   "outputs": [],
   "source": [
    "pipe_params1 = { #set up parameters for vectorizer and model\n",
    "    'cvec__stop_words': ['english'],\n",
    "    'cvec__max_features': [500, 1000], \n",
    "    'cvec__min_df': [2], \n",
    "    'cvec__max_df': [.9, .95, .98],\n",
    "    'cvec__ngram_range': [(1,1), (1,2)], \n",
    "    'model__n_estimators': [50,100],\n",
    "}"
   ]
  },
  {
   "cell_type": "code",
   "execution_count": 63,
   "id": "8ca8d332-735c-4754-807d-314b8cff6cdd",
   "metadata": {},
   "outputs": [],
   "source": [
    "gs1 = GridSearchCV(pipe1, pipe_params1, cv =3) # 3 fold cross validation was used because 5 was taking too much computational time"
   ]
  },
  {
   "cell_type": "code",
   "execution_count": 64,
   "id": "c4abeac3-7582-4d6b-8557-3e673b030419",
   "metadata": {},
   "outputs": [
    {
     "data": {
      "text/plain": [
       "GridSearchCV(cv=3,\n",
       "             estimator=Pipeline(steps=[('cvec', CountVectorizer()),\n",
       "                                       ('model', AdaBoostClassifier())]),\n",
       "             param_grid={'cvec__max_df': [0.9, 0.95, 0.98],\n",
       "                         'cvec__max_features': [500, 1000], 'cvec__min_df': [2],\n",
       "                         'cvec__ngram_range': [(1, 1), (1, 2)],\n",
       "                         'cvec__stop_words': ['english'],\n",
       "                         'model__n_estimators': [50, 100]})"
      ]
     },
     "execution_count": 64,
     "metadata": {},
     "output_type": "execute_result"
    }
   ],
   "source": [
    "gs1.fit(X_train, y_train)  #tune over hyper parameters"
   ]
  },
  {
   "cell_type": "code",
   "execution_count": 65,
   "id": "1be1468c-a1f3-47a9-a4de-387132655c0c",
   "metadata": {},
   "outputs": [
    {
     "name": "stdout",
     "output_type": "stream",
     "text": [
      "{'cvec__max_df': 0.9, 'cvec__max_features': 1000, 'cvec__min_df': 2, 'cvec__ngram_range': (1, 1), 'cvec__stop_words': 'english', 'model__n_estimators': 100}\n"
     ]
    }
   ],
   "source": [
    "print(gs1.best_params_)"
   ]
  },
  {
   "cell_type": "markdown",
   "id": "d8c51502-b3af-4390-af82-371c7f625830",
   "metadata": {},
   "source": [
    "Only one-grams are included in the model. All the models did better when stop words were removed."
   ]
  },
  {
   "cell_type": "code",
   "execution_count": 66,
   "id": "c0dcb633-6b15-4207-a52c-457847040ce1",
   "metadata": {},
   "outputs": [
    {
     "name": "stdout",
     "output_type": "stream",
     "text": [
      "0.8753209016750564\n"
     ]
    }
   ],
   "source": [
    "print(gs1.best_score_)"
   ]
  },
  {
   "cell_type": "code",
   "execution_count": 67,
   "id": "f553cb33-a7ca-4c6f-ba0d-236f96af232d",
   "metadata": {},
   "outputs": [
    {
     "data": {
      "text/plain": [
       "(0.9383088869715271, 0.888745148771022)"
      ]
     },
     "execution_count": 67,
     "metadata": {},
     "output_type": "execute_result"
    }
   ],
   "source": [
    "gs1.score(X_train, y_train), gs1.score(X_test, y_test)"
   ]
  },
  {
   "cell_type": "markdown",
   "id": "5f6dd284-1449-4144-97f0-8a080db8fdb2",
   "metadata": {},
   "source": [
    "Overall this model is pretty good. It has an accuracy of almost 90%. However there is some overfitting. We will see if one of the other models performs better. Another way to look at the results of the model is a confusion matrix."
   ]
  },
  {
   "cell_type": "code",
   "execution_count": 68,
   "id": "1a6817c7-3404-49a0-9c51-01e3167b023a",
   "metadata": {
    "tags": []
   },
   "outputs": [
    {
     "data": {
      "image/png": "[encoded data removed]",
      "text/plain": [
       "<Figure size 432x288 with 2 Axes>"
      ]
     },
     "metadata": {
      "needs_background": "light"
     },
     "output_type": "display_data"
    }
   ],
   "source": [
    "preds_ab = gs1.predict(X_test)\n",
    "tn, fp, fn, tp = confusion_matrix(y_test, preds_ab).ravel()\n",
    "plot_confusion_matrix(gs1, X_test, y_test, cmap='Blues');"
   ]
  },
  {
   "cell_type": "markdown",
   "id": "1e16e770-fb6d-4e7b-b283-e29374c7611a",
   "metadata": {},
   "source": [
    "Looking at the confusion matrix it looks like the model has some false negatives. In our case a false negative is the model misclassifying a post from the sabermetric subreddit as being from the mlb subreddit. While accuracy is the main metric we will use for this project we can use other metrics to get more insight into how the model is performing."
   ]
  },
  {
   "cell_type": "code",
   "execution_count": 70,
   "id": "7cdf6536-2c4d-43bf-9db9-c4a38afba8dc",
   "metadata": {},
   "outputs": [
    {
     "data": {
      "text/plain": [
       "0.847769028871391"
      ]
     },
     "execution_count": 70,
     "metadata": {},
     "output_type": "execute_result"
    }
   ],
   "source": [
    "recall = tp/(tp +fn)\n",
    "recall"
   ]
  },
  {
   "cell_type": "markdown",
   "id": "1f7edbaf-ad44-4e8e-8f8c-7cc86803e0e0",
   "metadata": {},
   "source": [
    "The recall score is lower than the accuracy score. The model is classifying a higher percentage of sabermetric posts as mlb posts then the other way around."
   ]
  },
  {
   "cell_type": "code",
   "execution_count": 71,
   "id": "9628f064-e0c4-4cd0-8c68-cc23d86f688a",
   "metadata": {},
   "outputs": [
    {
     "data": {
      "text/plain": [
       "0.9202279202279202"
      ]
     },
     "execution_count": 71,
     "metadata": {},
     "output_type": "execute_result"
    }
   ],
   "source": [
    "precision = tp/(tp +fp)\n",
    "precision"
   ]
  },
  {
   "cell_type": "markdown",
   "id": "806b0ae9-1734-4803-a8db-db1348ec9107",
   "metadata": {},
   "source": [
    "The precision is good. There are not many false positives. "
   ]
  },
  {
   "cell_type": "code",
   "execution_count": 72,
   "id": "d0407af7-e8d8-46d9-998c-e921200b58e1",
   "metadata": {},
   "outputs": [
    {
     "data": {
      "text/plain": [
       "0.9285714285714286"
      ]
     },
     "execution_count": 72,
     "metadata": {},
     "output_type": "execute_result"
    }
   ],
   "source": [
    "specificity = tn/(tn +fp)\n",
    "specificity"
   ]
  },
  {
   "cell_type": "markdown",
   "id": "cf2cfb02-e831-49e8-9c60-712289c90bda",
   "metadata": {},
   "source": [
    "The specificity is good for the same reason as the precision."
   ]
  },
  {
   "cell_type": "code",
   "execution_count": 73,
   "id": "abd99cca-6577-4829-b7ca-5fa64b54fe4e",
   "metadata": {},
   "outputs": [
    {
     "data": {
      "text/plain": [
       "0.8625592417061612"
      ]
     },
     "execution_count": 73,
     "metadata": {},
     "output_type": "execute_result"
    }
   ],
   "source": [
    "npv = tn/(tn + fn)\n",
    "npv"
   ]
  },
  {
   "cell_type": "markdown",
   "id": "cc53f026-24f8-489a-bb04-554509976e5a",
   "metadata": {},
   "source": [
    "This last metric is negative predictive value. It is a measure of the percentage of negative predictions by the model which are correct. It is a negative version of precision. It is not commonly used but we decided to include it since in this case we don't care any more about predicting positives than predicting negatives."
   ]
  },
  {
   "cell_type": "markdown",
   "id": "1883c166-90d1-41f7-8b2b-d092eabd240a",
   "metadata": {},
   "source": [
    "It is lower than accuracy for the same reason recall is."
   ]
  },
  {
   "cell_type": "markdown",
   "id": "556e61a2-df8e-43cf-8fc5-136f37ccfa95",
   "metadata": {},
   "source": [
    "# Random Forests"
   ]
  },
  {
   "cell_type": "markdown",
   "id": "505f760c-0606-45de-9033-1a3fa8e8fa67",
   "metadata": {},
   "source": [
    "Random Forests are a bagging method used to improve the performance of decision trees. The random forests model also did better with CountVectorizer then it did with TFidVectorizer."
   ]
  },
  {
   "cell_type": "code",
   "execution_count": 23,
   "id": "aa1ed48e-438d-4f7b-bf95-ed8abd6669e0",
   "metadata": {},
   "outputs": [],
   "source": [
    "pipe2 = Pipeline([\n",
    "    ('cvec', CountVectorizer()),\n",
    "    ('model', RandomForestClassifier())\n",
    "])"
   ]
  },
  {
   "cell_type": "code",
   "execution_count": 24,
   "id": "6cdcc510-e72a-4ada-8132-5f3d796b978b",
   "metadata": {},
   "outputs": [],
   "source": [
    "pipe_params2 = {\n",
    "    'cvec__stop_words': ['english'],\n",
    "    'cvec__max_features': [500, 1000,2000],\n",
    "    'cvec__min_df': [2],\n",
    "    'cvec__max_df': [.9, .95, .98],\n",
    "    'cvec__ngram_range': [(1,1), (1,2)],\n",
    "    'model__n_estimators': [50,100],\n",
    "    'model__max_depth': [None, 1, 2, 3]\n",
    "}"
   ]
  },
  {
   "cell_type": "code",
   "execution_count": 25,
   "id": "c6ef430a-50d7-49e3-9f74-c4b5a052f671",
   "metadata": {},
   "outputs": [],
   "source": [
    "gs2 = GridSearchCV(pipe2, pipe_params2, cv =3)"
   ]
  },
  {
   "cell_type": "code",
   "execution_count": 26,
   "id": "6341884d-1381-486e-9f65-b0abe328a8cd",
   "metadata": {},
   "outputs": [
    {
     "data": {
      "text/plain": [
       "GridSearchCV(cv=3,\n",
       "             estimator=Pipeline(steps=[('cvec', CountVectorizer()),\n",
       "                                       ('model', RandomForestClassifier())]),\n",
       "             param_grid={'cvec__max_df': [0.9, 0.95, 0.98],\n",
       "                         'cvec__max_features': [500, 1000, 2000],\n",
       "                         'cvec__min_df': [2],\n",
       "                         'cvec__ngram_range': [(1, 1), (1, 2)],\n",
       "                         'cvec__stop_words': ['english'],\n",
       "                         'model__max_depth': [None, 1, 2, 3],\n",
       "                         'model__n_estimators': [50, 100]})"
      ]
     },
     "execution_count": 26,
     "metadata": {},
     "output_type": "execute_result"
    }
   ],
   "source": [
    "gs2.fit(X_train, y_train)"
   ]
  },
  {
   "cell_type": "code",
   "execution_count": 27,
   "id": "92f8f1ee-24d9-4a3f-b25a-dd95ea46dcf3",
   "metadata": {},
   "outputs": [
    {
     "name": "stdout",
     "output_type": "stream",
     "text": [
      "{'cvec__max_df': 0.9, 'cvec__max_features': 2000, 'cvec__min_df': 2, 'cvec__ngram_range': (1, 2), 'cvec__stop_words': 'english', 'model__max_depth': None, 'model__n_estimators': 50}\n"
     ]
    }
   ],
   "source": [
    "print(gs2.best_params_)"
   ]
  },
  {
   "cell_type": "markdown",
   "id": "6c4bdb99-a084-4638-ab15-0df2a740a668",
   "metadata": {},
   "source": [
    "The max depth is none so the depth of the random forests model is not being limited. Both one-grams and two-grams are included in the model."
   ]
  },
  {
   "cell_type": "code",
   "execution_count": 28,
   "id": "85a4b0a6-3782-4a3a-aa3c-f5cb49dc8e5b",
   "metadata": {},
   "outputs": [
    {
     "name": "stdout",
     "output_type": "stream",
     "text": [
      "0.8852378526566972\n"
     ]
    }
   ],
   "source": [
    "print(gs2.best_score_)"
   ]
  },
  {
   "cell_type": "code",
   "execution_count": 29,
   "id": "b0dae156-f715-4bb3-a535-4ddee6d5ec22",
   "metadata": {},
   "outputs": [
    {
     "data": {
      "text/plain": [
       "(0.998274374460742, 0.890038809831824)"
      ]
     },
     "execution_count": 29,
     "metadata": {},
     "output_type": "execute_result"
    }
   ],
   "source": [
    "gs2.score(X_train, y_train), gs2.score(X_test, y_test)"
   ]
  },
  {
   "cell_type": "markdown",
   "id": "7e31ac67-4a19-49a8-bb8f-6480680ef38d",
   "metadata": {},
   "source": [
    "The random forests model has a slightly higher accuracy then the adaboosting model. However it has serious overfitting. We will see if either of the other two models can beat these."
   ]
  },
  {
   "cell_type": "code",
   "execution_count": 30,
   "id": "40c5a388-cc1d-4fc6-8b58-725b8fdb7961",
   "metadata": {},
   "outputs": [
    {
     "data": {
      "image/png": "[encoded data removed]",
      "text/plain": [
       "<Figure size 432x288 with 2 Axes>"
      ]
     },
     "metadata": {
      "needs_background": "light"
     },
     "output_type": "display_data"
    }
   ],
   "source": [
    "preds_rf = gs2.predict(X_test)\n",
    "tn, fp, fn, tp = confusion_matrix(y_test, preds_rf).ravel()\n",
    "plot_confusion_matrix(gs2, X_test, y_test, cmap='Blues');"
   ]
  },
  {
   "cell_type": "markdown",
   "id": "7b0162ef-d1fa-4da1-a250-840405ff3f50",
   "metadata": {},
   "source": [
    "Looking at the confusion matrix it seems that the random forests model is has a similar number of false negatives as false positives."
   ]
  },
  {
   "cell_type": "code",
   "execution_count": 32,
   "id": "3e858a96-dba0-4610-a399-91d1e91e006c",
   "metadata": {},
   "outputs": [
    {
     "data": {
      "text/plain": [
       "0.89501312335958"
      ]
     },
     "execution_count": 32,
     "metadata": {},
     "output_type": "execute_result"
    }
   ],
   "source": [
    "recall = tp/(tp +fn)\n",
    "recall"
   ]
  },
  {
   "cell_type": "code",
   "execution_count": 33,
   "id": "19d97b4a-2f0c-4554-890b-fdce761e14d1",
   "metadata": {},
   "outputs": [
    {
     "data": {
      "text/plain": [
       "0.883419689119171"
      ]
     },
     "execution_count": 33,
     "metadata": {},
     "output_type": "execute_result"
    }
   ],
   "source": [
    "precision = tp/(tp +fp)\n",
    "precision"
   ]
  },
  {
   "cell_type": "code",
   "execution_count": 34,
   "id": "e8361b9b-f1ce-4d02-9472-fb2e6bfed46f",
   "metadata": {},
   "outputs": [
    {
     "data": {
      "text/plain": [
       "0.8852040816326531"
      ]
     },
     "execution_count": 34,
     "metadata": {},
     "output_type": "execute_result"
    }
   ],
   "source": [
    "specificity = tn/(tn +fp)\n",
    "specificity"
   ]
  },
  {
   "cell_type": "code",
   "execution_count": 35,
   "id": "54e27e90-e2f2-412e-9f07-9f8555141e0b",
   "metadata": {},
   "outputs": [
    {
     "data": {
      "text/plain": [
       "0.896640826873385"
      ]
     },
     "execution_count": 35,
     "metadata": {},
     "output_type": "execute_result"
    }
   ],
   "source": [
    "npv = tn/(tn + fn)\n",
    "npv"
   ]
  },
  {
   "cell_type": "markdown",
   "id": "e297762a-3718-493f-9ecb-a2b8a779d06a",
   "metadata": {},
   "source": [
    "The metrics confirm what we learned from the confusion matrix. All of the are betweeen 0.88 and 0.90. "
   ]
  },
  {
   "cell_type": "markdown",
   "id": "48592088-d0b5-4757-a7ae-c60170d4d87d",
   "metadata": {},
   "source": [
    "# Logistic Regression"
   ]
  },
  {
   "cell_type": "markdown",
   "id": "6e476d06-7328-4718-8dc1-299d2f34a48f",
   "metadata": {},
   "source": [
    "Logistic Regression is a classification model that uses the sigmoid function. Unlike the other two models we have done so far, the logistic regression model had a higher accuracy with the TfidVectorizer than the CountVectorizer."
   ]
  },
  {
   "cell_type": "code",
   "execution_count": 107,
   "id": "1b7ab3cb-e4a2-4aba-bf05-92e1acd38c67",
   "metadata": {},
   "outputs": [],
   "source": [
    "pipe3 = Pipeline([\n",
    "    ('tvec', TfidfVectorizer()),\n",
    "    ('model', LogisticRegression())\n",
    "])"
   ]
  },
  {
   "cell_type": "code",
   "execution_count": 108,
   "id": "2299c430-f829-40d2-bf6f-b7aa4a1f3522",
   "metadata": {},
   "outputs": [],
   "source": [
    "pipe_params3 = {\n",
    "     'tvec__max_features': [2_000, 3_000, 4_000, 5_000],\n",
    "    'tvec__stop_words': [None, 'english'],\n",
    "    'tvec__ngram_range': [(1,1), (1,2)],\n",
    "    'model__C': [1, 0.1, 0.01], \n",
    "    'model__solver': ['liblinear']\n",
    "}"
   ]
  },
  {
   "cell_type": "code",
   "execution_count": 109,
   "id": "e54d06db-9b8d-4b9e-a627-0a413aa9cfae",
   "metadata": {},
   "outputs": [],
   "source": [
    "gs3 = GridSearchCV(pipe3, pipe_params3, cv =5)"
   ]
  },
  {
   "cell_type": "code",
   "execution_count": 110,
   "id": "3c8e2459-fc0f-499b-97c0-337afd80f63b",
   "metadata": {},
   "outputs": [
    {
     "data": {
      "text/plain": [
       "GridSearchCV(cv=5,\n",
       "             estimator=Pipeline(steps=[('tvec', TfidfVectorizer()),\n",
       "                                       ('model', LogisticRegression())]),\n",
       "             param_grid={'model__C': [1, 0.1, 0.01],\n",
       "                         'model__solver': ['liblinear'],\n",
       "                         'tvec__max_features': [2000, 3000, 4000, 5000],\n",
       "                         'tvec__ngram_range': [(1, 1), (1, 2)],\n",
       "                         'tvec__stop_words': [None, 'english']})"
      ]
     },
     "execution_count": 110,
     "metadata": {},
     "output_type": "execute_result"
    }
   ],
   "source": [
    "gs3.fit(X_train, y_train)"
   ]
  },
  {
   "cell_type": "code",
   "execution_count": 111,
   "id": "eff540de-7781-4ef0-b382-95ee0a74469d",
   "metadata": {},
   "outputs": [
    {
     "name": "stdout",
     "output_type": "stream",
     "text": [
      "{'model__C': 1, 'model__solver': 'liblinear', 'tvec__max_features': 5000, 'tvec__ngram_range': (1, 2), 'tvec__stop_words': 'english'}\n"
     ]
    }
   ],
   "source": [
    "print(gs3.best_params_)"
   ]
  },
  {
   "cell_type": "markdown",
   "id": "c830e659-8e84-43f1-a348-04f32b33f7ed",
   "metadata": {},
   "source": [
    "Alpha is the inverse of C so the best alpha was 1. The max features was higher in this model then any other model. One-gram and two-gram sequences were included."
   ]
  },
  {
   "cell_type": "code",
   "execution_count": 112,
   "id": "f567f978-75cb-45d5-bf07-47ff37fb7425",
   "metadata": {},
   "outputs": [
    {
     "name": "stdout",
     "output_type": "stream",
     "text": [
      "0.9197465926863782\n"
     ]
    }
   ],
   "source": [
    "print(gs3.best_score_)"
   ]
  },
  {
   "cell_type": "code",
   "execution_count": 113,
   "id": "a06e7fbb-78d2-473d-b0bf-eeaf722720a5",
   "metadata": {},
   "outputs": [
    {
     "data": {
      "text/plain": [
       "(0.9723899913718723, 0.9236739974126779)"
      ]
     },
     "execution_count": 113,
     "metadata": {},
     "output_type": "execute_result"
    }
   ],
   "source": [
    "gs3.score(X_train, y_train), gs3.score(X_test, y_test)"
   ]
  },
  {
   "cell_type": "markdown",
   "id": "8d94c2b0-3174-4d15-9fb8-f4f8d75cd9cd",
   "metadata": {},
   "source": [
    "The logistic regression model has a higher accuracy then the adaboost model and the random forests model. It is also overfitting but the overfit is no worse than the other two models. Therefore it is best model so far."
   ]
  },
  {
   "cell_type": "code",
   "execution_count": 114,
   "id": "70f114e5-1c6e-4c5a-a6a3-a600cbb1dcf9",
   "metadata": {},
   "outputs": [
    {
     "data": {
      "image/png": "[encoded data removed]",
      "text/plain": [
       "<Figure size 432x288 with 2 Axes>"
      ]
     },
     "metadata": {
      "needs_background": "light"
     },
     "output_type": "display_data"
    }
   ],
   "source": [
    "preds_logreg = gs3.predict(X_test)\n",
    "tn, fp, fn, tp = confusion_matrix(y_test, preds_logreg).ravel()\n",
    "plot_confusion_matrix(gs3, X_test, y_test, cmap='Blues');"
   ]
  },
  {
   "cell_type": "markdown",
   "id": "6f6c8648-5a2b-45c8-a6d3-1f12fdc0a56a",
   "metadata": {},
   "source": [
    "Based on the confusion matrix, the logistic regression model has a similar rate of false positives and false negatives."
   ]
  },
  {
   "cell_type": "code",
   "execution_count": 116,
   "id": "5a32d735-6983-45b1-8fa2-34af0ae3dfbb",
   "metadata": {},
   "outputs": [
    {
     "data": {
      "text/plain": [
       "0.9212598425196851"
      ]
     },
     "execution_count": 116,
     "metadata": {},
     "output_type": "execute_result"
    }
   ],
   "source": [
    "recall = tp/(tp +fn)\n",
    "recall"
   ]
  },
  {
   "cell_type": "code",
   "execution_count": 117,
   "id": "f58a3bd3-4e09-4b51-88dd-1e4b2e2807d2",
   "metadata": {},
   "outputs": [
    {
     "data": {
      "text/plain": [
       "0.9236842105263158"
      ]
     },
     "execution_count": 117,
     "metadata": {},
     "output_type": "execute_result"
    }
   ],
   "source": [
    "precision = tp/(tp +fp)\n",
    "precision"
   ]
  },
  {
   "cell_type": "code",
   "execution_count": 118,
   "id": "44822f35-0876-4442-b70c-69a33a0e08a3",
   "metadata": {},
   "outputs": [
    {
     "data": {
      "text/plain": [
       "0.9260204081632653"
      ]
     },
     "execution_count": 118,
     "metadata": {},
     "output_type": "execute_result"
    }
   ],
   "source": [
    "specificity = tn/(tn +fp)\n",
    "specificity"
   ]
  },
  {
   "cell_type": "code",
   "execution_count": 119,
   "id": "c7c31526-ee02-4c5f-bb26-4ef207c9c369",
   "metadata": {},
   "outputs": [
    {
     "data": {
      "text/plain": [
       "0.9236641221374046"
      ]
     },
     "execution_count": 119,
     "metadata": {},
     "output_type": "execute_result"
    }
   ],
   "source": [
    "npv = tn/(tn + fn)\n",
    "npv"
   ]
  },
  {
   "cell_type": "markdown",
   "id": "f3df2c6a-bf9e-4a5a-a190-605a09735f54",
   "metadata": {},
   "source": [
    "All of the metrics are at around 0.92 along with accuracy. We have one more model to try."
   ]
  },
  {
   "cell_type": "markdown",
   "id": "f347644b-46af-4c75-8613-098d788b8f9b",
   "metadata": {
    "tags": []
   },
   "source": [
    "# Naive Bayes "
   ]
  },
  {
   "cell_type": "markdown",
   "id": "3274ad0c-9006-4007-bb75-59ca305bcf68",
   "metadata": {},
   "source": [
    "The naive bayes model had better results with the TfidVectorizer. Naive bayes is a model that uses bayesian statistics to generate predictions. It is a very efficient model. "
   ]
  },
  {
   "cell_type": "code",
   "execution_count": 76,
   "id": "99110c5e-1425-4f6e-a648-650edc6f035f",
   "metadata": {
    "tags": []
   },
   "outputs": [],
   "source": [
    "pipe4 = Pipeline([\n",
    "    ('tvec', TfidfVectorizer()),\n",
    "    ('mnb', MultinomialNB())\n",
    "])"
   ]
  },
  {
   "cell_type": "code",
   "execution_count": 77,
   "id": "07741468-5b77-4cfe-8eb7-9a87436cd4b5",
   "metadata": {},
   "outputs": [],
   "source": [
    "pipe_params4 = {\n",
    "     'tvec__max_features': [2_000, 3_000, 4_000, 5_000],\n",
    "    'tvec__stop_words': [None, 'english'],\n",
    "    'tvec__ngram_range': [(1,1), (1,2)]\n",
    "}"
   ]
  },
  {
   "cell_type": "code",
   "execution_count": 78,
   "id": "dfe30fbf-6a36-4d22-b275-ed975bbcef1a",
   "metadata": {},
   "outputs": [],
   "source": [
    "gs4 = GridSearchCV(pipe4, pipe_params4, cv =5)"
   ]
  },
  {
   "cell_type": "code",
   "execution_count": 79,
   "id": "ea05c96b-bcfb-451b-ab90-4d967a69d677",
   "metadata": {},
   "outputs": [
    {
     "data": {
      "text/plain": [
       "GridSearchCV(cv=5,\n",
       "             estimator=Pipeline(steps=[('tvec', TfidfVectorizer()),\n",
       "                                       ('mnb', MultinomialNB())]),\n",
       "             param_grid={'tvec__max_features': [2000, 3000, 4000, 5000],\n",
       "                         'tvec__ngram_range': [(1, 1), (1, 2)],\n",
       "                         'tvec__stop_words': [None, 'english']})"
      ]
     },
     "execution_count": 79,
     "metadata": {},
     "output_type": "execute_result"
    }
   ],
   "source": [
    "gs4.fit(X_train, y_train)"
   ]
  },
  {
   "cell_type": "code",
   "execution_count": 80,
   "id": "fdb3bf47-9218-485b-af65-3959066094d6",
   "metadata": {},
   "outputs": [
    {
     "name": "stdout",
     "output_type": "stream",
     "text": [
      "{'tvec__max_features': 4000, 'tvec__ngram_range': (1, 1), 'tvec__stop_words': 'english'}\n"
     ]
    }
   ],
   "source": [
    "print(gs4.best_params_)"
   ]
  },
  {
   "cell_type": "markdown",
   "id": "6f8fd440-9746-4dfc-9d35-9c27b8a8fcf6",
   "metadata": {},
   "source": [
    "All the models did better when taking out stop words. There is a lower max features in this model then the logistic regression model. Only 1-grams were included."
   ]
  },
  {
   "cell_type": "code",
   "execution_count": 81,
   "id": "be99d4fd-d5b3-439e-b103-7fbc31b40beb",
   "metadata": {},
   "outputs": [
    {
     "name": "stdout",
     "output_type": "stream",
     "text": [
      "0.9124162135994638\n"
     ]
    }
   ],
   "source": [
    "print(gs4.best_score_)"
   ]
  },
  {
   "cell_type": "code",
   "execution_count": 83,
   "id": "a97e1112-3c68-44be-bceb-b478e3e9c806",
   "metadata": {},
   "outputs": [
    {
     "data": {
      "text/plain": [
       "(0.955565142364107, 0.926261319534282)"
      ]
     },
     "execution_count": 83,
     "metadata": {},
     "output_type": "execute_result"
    }
   ],
   "source": [
    "gs4.score(X_train, y_train), gs4.score(X_test, y_test)"
   ]
  },
  {
   "cell_type": "markdown",
   "id": "7483f60f-889c-46b4-9829-9ba26c732552",
   "metadata": {},
   "source": [
    "The naive bayes model is the most accurate model on the testing data. It is slightly more accurate than the logistic regression model. The big advantage it has over the logistic regression model is that it is less overfit. Of the four models, the naive bayes is the best one."
   ]
  },
  {
   "cell_type": "code",
   "execution_count": 84,
   "id": "96f8bff5-4070-4b06-be9b-ae82f2c2997e",
   "metadata": {},
   "outputs": [
    {
     "data": {
      "image/png": "[encoded data removed]",
      "text/plain": [
       "<Figure size 432x288 with 2 Axes>"
      ]
     },
     "metadata": {
      "needs_background": "light"
     },
     "output_type": "display_data"
    }
   ],
   "source": [
    "preds_nb = gs4.predict(X_test)\n",
    "tn, fp, fn, tp = confusion_matrix(y_test, preds_nb).ravel()\n",
    "plot_confusion_matrix(gs4, X_test, y_test, cmap='Blues');"
   ]
  },
  {
   "cell_type": "markdown",
   "id": "5a481712-3526-418a-ac69-07b17318c350",
   "metadata": {},
   "source": [
    "One downside to the naive bayes model is it is not quite as good at avoiding false positives as the logistic regression model. That means it has a higher tendency to classify posts in the mlb subreddit as being in the sabermetric one instead."
   ]
  },
  {
   "cell_type": "code",
   "execution_count": 86,
   "id": "a4f015a3-ac12-46df-9557-a84c56cc6187",
   "metadata": {},
   "outputs": [
    {
     "data": {
      "text/plain": [
       "0.94750656167979"
      ]
     },
     "execution_count": 86,
     "metadata": {},
     "output_type": "execute_result"
    }
   ],
   "source": [
    "recall = tp/(tp +fn)\n",
    "recall"
   ]
  },
  {
   "cell_type": "markdown",
   "id": "3c2ea530-a2c7-4367-884c-b2fee7eb8fa2",
   "metadata": {},
   "source": [
    "In addition to the highest accuracy score the naive bayes model has the highest recall score as well. "
   ]
  },
  {
   "cell_type": "code",
   "execution_count": 87,
   "id": "6b46426c-3ff7-4906-bb78-a1e81ab517e3",
   "metadata": {},
   "outputs": [
    {
     "data": {
      "text/plain": [
       "0.907035175879397"
      ]
     },
     "execution_count": 87,
     "metadata": {},
     "output_type": "execute_result"
    }
   ],
   "source": [
    "precision = tp/(tp +fp)\n",
    "precision"
   ]
  },
  {
   "cell_type": "code",
   "execution_count": 88,
   "id": "61377fc2-e290-486b-8fee-e9359fcbfe6b",
   "metadata": {},
   "outputs": [
    {
     "data": {
      "text/plain": [
       "0.9056122448979592"
      ]
     },
     "execution_count": 88,
     "metadata": {},
     "output_type": "execute_result"
    }
   ],
   "source": [
    "specificity = tn/(tn +fp)\n",
    "specificity"
   ]
  },
  {
   "cell_type": "markdown",
   "id": "aeccb46c-feea-4052-972e-9be0bc3974f9",
   "metadata": {},
   "source": [
    "The naive bayes model has a lower precision and specificity than the logistic regression and adaboosting models. This is a drawback however since we mostly care about accuracy it is still our best model. "
   ]
  },
  {
   "cell_type": "code",
   "execution_count": 89,
   "id": "9ac2ba4d-500e-4e1a-a12d-10989d61d637",
   "metadata": {},
   "outputs": [
    {
     "data": {
      "text/plain": [
       "0.9466666666666667"
      ]
     },
     "execution_count": 89,
     "metadata": {},
     "output_type": "execute_result"
    }
   ],
   "source": [
    "npv = tn/(tn + fn)\n",
    "npv"
   ]
  },
  {
   "cell_type": "markdown",
   "id": "0dd71385-983b-4b4e-a9bb-7198b1668310",
   "metadata": {},
   "source": [
    "The naive bayes model has the highest npv score of our models."
   ]
  },
  {
   "cell_type": "markdown",
   "id": "4f5369f5-cc93-483c-bf9c-37890221c64d",
   "metadata": {
    "tags": []
   },
   "source": [
    "# Conclusion"
   ]
  },
  {
   "cell_type": "markdown",
   "id": "da585b06-1603-4111-8cc9-559b357e615f",
   "metadata": {},
   "source": [
    "We were successfully able to model the difference between our two subreddits. That means there are differences between how the sabermetric community talks about baseball compared to MLB fans at large. MLB might want to have a seperate outreach for them to have the biggest impact.\n",
    "\n",
    "The naive bayes model with TfidVectorizer was the most effective model at accurately predicting the test data and had the least overfitting. Therefore it is the model that we will use going forward to study this issue."
   ]
  },
  {
   "cell_type": "markdown",
   "id": "6e6c4205-26a5-4948-b159-3687e90b1342",
   "metadata": {},
   "source": [
    "# Further Work"
   ]
  },
  {
   "cell_type": "markdown",
   "id": "f7f2ccb5-8705-4502-9b7c-dde3109be1ec",
   "metadata": {},
   "source": [
    "Now that we have a model that can predict which subreddit the post comes from we can do more research on the differences between the two. Then we can recommend how to appeal to each group individually. Though targeted ads we hope to grow greater fan interest and engagement. \n",
    "\n",
    "Fans of sabermetrics are not the only sub group of MLB fans. Running this model comparing the mlb subreddits to other baseball subreddits might give us a good idea of other groups of fans who might warrent targeted outreach"
   ]
  },
  {
   "cell_type": "markdown",
   "id": "da3a2478-e7f2-4cfb-b7a9-f85ebd91cf65",
   "metadata": {},
   "source": [
    "Other further work can be done improving the model and trying other models. Other models like SVM, gradient boosting, and neural networks may have gotten even better results. Also there are always more hyperparameters to tune. However, overall our model has an accuracy of over 90% so we feel comfortable using it going forward."
   ]
  }
 ],
 "metadata": {
  "kernelspec": {
   "display_name": "Python 3 (ipykernel)",
   "language": "python",
   "name": "python3"
  },
  "language_info": {
   "codemirror_mode": {
    "name": "ipython",
    "version": 3
   },
   "file_extension": ".py",
   "mimetype": "text/x-python",
   "name": "python",
   "nbconvert_exporter": "python",
   "pygments_lexer": "ipython3",
   "version": "3.9.7"
  }
 },
 "nbformat": 4,
 "nbformat_minor": 5
}
