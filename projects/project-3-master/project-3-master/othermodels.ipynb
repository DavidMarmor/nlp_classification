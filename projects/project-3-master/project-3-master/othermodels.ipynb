{
 "cells": [
  {
   "cell_type": "markdown",
   "id": "674e9031-a52a-4e1c-aa9f-66c2b8d3ddf9",
   "metadata": {},
   "source": [
    "For all four models I ran I used both the CountVectorizer and TfidfVectorizer. The better vectorizer for each model was included in the main modeling notebook. This notebook contains the other version of each model."
   ]
  },
  {
   "cell_type": "code",
   "execution_count": 2,
   "id": "b49012c2-e472-4553-bb79-0275a603882d",
   "metadata": {},
   "outputs": [],
   "source": [
    "# imports\n",
    "import pandas as pd\n",
    "import matplotlib.pyplot as plt\n",
    "from sklearn.model_selection import train_test_split, GridSearchCV, cross_val_score\n",
    "from sklearn.pipeline import Pipeline\n",
    "from sklearn.naive_bayes import MultinomialNB\n",
    "from sklearn.linear_model import LogisticRegression\n",
    "from sklearn.metrics import confusion_matrix, plot_confusion_matrix\n",
    "from sklearn.neighbors import KNeighborsClassifier\n",
    "from sklearn.feature_extraction.text import CountVectorizer, TfidfVectorizer\n",
    "from sklearn.ensemble import RandomForestClassifier, ExtraTreesClassifier\n",
    "from sklearn.ensemble import AdaBoostClassifier"
   ]
  },
  {
   "cell_type": "code",
   "execution_count": 3,
   "id": "1420877d-dfe7-474c-8b67-61cf84ae1971",
   "metadata": {},
   "outputs": [],
   "source": [
    "df = pd.read_csv('data.csv')"
   ]
  },
  {
   "cell_type": "code",
   "execution_count": 4,
   "id": "82c4e2e4-df6a-4cda-bf2f-5a43830a3d75",
   "metadata": {},
   "outputs": [],
   "source": [
    "X = df['selftext']\n",
    "y= df['subreddit']"
   ]
  },
  {
   "cell_type": "code",
   "execution_count": 5,
   "id": "dac04c7b-9b0f-4885-8202-78bd66dfcab8",
   "metadata": {},
   "outputs": [],
   "source": [
    "X_train, X_test, y_train, y_test = train_test_split(X,\n",
    "                                                    y,\n",
    "                                                    stratify=y, \n",
    "                                                    random_state=5)"
   ]
  },
  {
   "cell_type": "markdown",
   "id": "9d2feb63-28df-4f33-b333-942989c25205",
   "metadata": {},
   "source": [
    "These are the same steps that were taken in the modeling notebook to prepare the models to run."
   ]
  },
  {
   "cell_type": "markdown",
   "id": "0d520aeb-7b96-47c9-9fe4-7c2e9bc59dad",
   "metadata": {},
   "source": [
    "# AdaBoost with Tfid Vectorizer"
   ]
  },
  {
   "cell_type": "code",
   "execution_count": 91,
   "id": "9600bbf5-4a67-460a-81dc-471d289a2401",
   "metadata": {},
   "outputs": [],
   "source": [
    "pipe1 = Pipeline([\n",
    "    ('tvec', TfidfVectorizer()),\n",
    "    ('model', AdaBoostClassifier())\n",
    "])"
   ]
  },
  {
   "cell_type": "code",
   "execution_count": 93,
   "id": "fa6eb0c2-d423-46b5-90b8-34364964dbd3",
   "metadata": {},
   "outputs": [],
   "source": [
    "pipe_params1 = {\n",
    "    'tvec__max_features': [2_000, 3_000, 4_000, 5_000],\n",
    "    'tvec__stop_words': [None, 'english'],\n",
    "    'tvec__ngram_range': [(1,1), (1,2)],\n",
    "    'model__n_estimators': [50,100],\n",
    "}"
   ]
  },
  {
   "cell_type": "code",
   "execution_count": 94,
   "id": "8e285720-3a5b-477c-9235-9a2d194bfb1c",
   "metadata": {},
   "outputs": [],
   "source": [
    "gs1 = GridSearchCV(pipe1, pipe_params1, cv =3)"
   ]
  },
  {
   "cell_type": "code",
   "execution_count": 95,
   "id": "9fa406e9-ed6e-457f-bb66-6dc8a6bc6c5a",
   "metadata": {},
   "outputs": [
    {
     "data": {
      "text/plain": [
       "GridSearchCV(cv=3,\n",
       "             estimator=Pipeline(steps=[('tvec', TfidfVectorizer()),\n",
       "                                       ('model', AdaBoostClassifier())]),\n",
       "             param_grid={'model__n_estimators': [50, 100],\n",
       "                         'tvec__max_features': [2000, 3000, 4000, 5000],\n",
       "                         'tvec__ngram_range': [(1, 1), (1, 2)],\n",
       "                         'tvec__stop_words': [None, 'english']})"
      ]
     },
     "execution_count": 95,
     "metadata": {},
     "output_type": "execute_result"
    }
   ],
   "source": [
    "gs1.fit(X_train, y_train)"
   ]
  },
  {
   "cell_type": "code",
   "execution_count": 96,
   "id": "411c2eb6-2287-42a3-bece-651976680231",
   "metadata": {},
   "outputs": [
    {
     "name": "stdout",
     "output_type": "stream",
     "text": [
      "{'model__n_estimators': 100, 'tvec__max_features': 5000, 'tvec__ngram_range': (1, 1), 'tvec__stop_words': None}\n"
     ]
    }
   ],
   "source": [
    "print(gs1.best_params_)"
   ]
  },
  {
   "cell_type": "code",
   "execution_count": 97,
   "id": "cde6b1b6-7c0e-4925-932b-c87549b72337",
   "metadata": {},
   "outputs": [
    {
     "name": "stdout",
     "output_type": "stream",
     "text": [
      "0.8675572595834814\n"
     ]
    }
   ],
   "source": [
    "print(gs1.best_score_)"
   ]
  },
  {
   "cell_type": "code",
   "execution_count": 99,
   "id": "da128191-5340-4557-af7d-2e0d846b2ec5",
   "metadata": {},
   "outputs": [
    {
     "data": {
      "text/plain": [
       "(0.9443485763589301, 0.8796895213454075)"
      ]
     },
     "execution_count": 99,
     "metadata": {},
     "output_type": "execute_result"
    }
   ],
   "source": [
    "gs1.score(X_train, y_train), gs1.score(X_test, y_test)"
   ]
  },
  {
   "cell_type": "markdown",
   "id": "cd7b0e70-155e-4d34-bb0f-6d2b0e6bb052",
   "metadata": {
    "tags": []
   },
   "source": [
    "# Random Forests with Tfid Vecorizer"
   ]
  },
  {
   "cell_type": "code",
   "execution_count": 120,
   "id": "b136f5ef-814e-47ab-9059-c08b28652d21",
   "metadata": {},
   "outputs": [],
   "source": [
    "pipe2 = Pipeline([\n",
    "    ('tvec', TfidfVectorizer()),\n",
    "    ('model', RandomForestClassifier())\n",
    "])"
   ]
  },
  {
   "cell_type": "code",
   "execution_count": 121,
   "id": "15ec75b6-9a94-49f5-84de-ea6a2c4fea79",
   "metadata": {},
   "outputs": [],
   "source": [
    "pipe_params2 = {\n",
    "     'tvec__max_features': [2_000, 3_000, 4_000, 5_000],\n",
    "    'tvec__stop_words': [None, 'english'],\n",
    "    'tvec__ngram_range': [(1,1), (1,2)],\n",
    "    'model__n_estimators': [50,100],\n",
    "    'model__max_depth': [None, 1, 2, 3]\n",
    "}"
   ]
  },
  {
   "cell_type": "code",
   "execution_count": 122,
   "id": "e0eece4a-314f-49ee-8360-5e4bd5d3ba14",
   "metadata": {},
   "outputs": [],
   "source": [
    "gs2 = GridSearchCV(pipe2, pipe_params2, cv =3)"
   ]
  },
  {
   "cell_type": "code",
   "execution_count": 123,
   "id": "712008d7-1434-409c-9309-2cce8f31becb",
   "metadata": {},
   "outputs": [
    {
     "data": {
      "text/plain": [
       "GridSearchCV(cv=3,\n",
       "             estimator=Pipeline(steps=[('tvec', TfidfVectorizer()),\n",
       "                                       ('model', RandomForestClassifier())]),\n",
       "             param_grid={'model__max_depth': [None, 1, 2, 3],\n",
       "                         'model__n_estimators': [50, 100],\n",
       "                         'tvec__max_features': [2000, 3000, 4000, 5000],\n",
       "                         'tvec__ngram_range': [(1, 1), (1, 2)],\n",
       "                         'tvec__stop_words': [None, 'english']})"
      ]
     },
     "execution_count": 123,
     "metadata": {},
     "output_type": "execute_result"
    }
   ],
   "source": [
    "gs2.fit(X_train, y_train)"
   ]
  },
  {
   "cell_type": "code",
   "execution_count": 124,
   "id": "b16ad518-053e-402a-8b07-cdd0bbd2b58b",
   "metadata": {},
   "outputs": [
    {
     "name": "stdout",
     "output_type": "stream",
     "text": [
      "{'model__max_depth': None, 'model__n_estimators': 100, 'tvec__max_features': 5000, 'tvec__ngram_range': (1, 2), 'tvec__stop_words': 'english'}\n"
     ]
    }
   ],
   "source": [
    "print(gs2.best_params_)"
   ]
  },
  {
   "cell_type": "code",
   "execution_count": 125,
   "id": "2aa6a3c9-3012-47d9-a1b8-7fd3cb605800",
   "metadata": {},
   "outputs": [
    {
     "name": "stdout",
     "output_type": "stream",
     "text": [
      "0.8895506147682917\n"
     ]
    }
   ],
   "source": [
    "print(gs2.best_score_)"
   ]
  },
  {
   "cell_type": "code",
   "execution_count": 126,
   "id": "842fe407-9b74-4697-a91f-63ea85e9efd2",
   "metadata": {},
   "outputs": [
    {
     "data": {
      "text/plain": [
       "(0.9995685936151855, 0.8783958602846055)"
      ]
     },
     "execution_count": 126,
     "metadata": {},
     "output_type": "execute_result"
    }
   ],
   "source": [
    "gs2.score(X_train, y_train), gs2.score(X_test, y_test)"
   ]
  },
  {
   "cell_type": "markdown",
   "id": "3ac2740e-934a-4846-8567-f69ab9210f46",
   "metadata": {},
   "source": [
    "# Logistic Regression with Count Vectorizer"
   ]
  },
  {
   "cell_type": "code",
   "execution_count": 10,
   "id": "8ee17d1c-f7be-4044-9971-72ddcc873d35",
   "metadata": {},
   "outputs": [],
   "source": [
    "pipe3 = Pipeline([\n",
    "    ('cvec', CountVectorizer()),\n",
    "    ('model', LogisticRegression())\n",
    "])"
   ]
  },
  {
   "cell_type": "code",
   "execution_count": 11,
   "id": "666aad41-7cdb-46c9-86d2-1e042b4232d0",
   "metadata": {},
   "outputs": [],
   "source": [
    "pipe_params3 = {\n",
    "    'cvec__stop_words': ['english'],\n",
    "    'cvec__max_features': [500, 1000, 2000],\n",
    "    'cvec__min_df': [2, 3],\n",
    "    'cvec__max_df': [.9, .95, .98],\n",
    "    'cvec__ngram_range': [(1,1), (1,2)],\n",
    "    'model__C': [1, 0.1, 0.01], \n",
    "    'model__solver': ['liblinear']\n",
    "}"
   ]
  },
  {
   "cell_type": "code",
   "execution_count": 12,
   "id": "1fb858e0-e1ba-4a42-a1af-c2e605a76f95",
   "metadata": {},
   "outputs": [],
   "source": [
    "gs3 = GridSearchCV(pipe, pipe_params3, cv =5)"
   ]
  },
  {
   "cell_type": "code",
   "execution_count": 13,
   "id": "67cb660b-b6f1-4a28-bcba-7af71b23cf19",
   "metadata": {},
   "outputs": [
    {
     "data": {
      "text/plain": [
       "GridSearchCV(cv=5,\n",
       "             estimator=Pipeline(steps=[('cvec', CountVectorizer()),\n",
       "                                       ('model', LogisticRegression())]),\n",
       "             param_grid={'cvec__max_df': [0.9, 0.95, 0.98],\n",
       "                         'cvec__max_features': [500, 1000, 2000],\n",
       "                         'cvec__min_df': [2, 3],\n",
       "                         'cvec__ngram_range': [(1, 1), (1, 2)],\n",
       "                         'cvec__stop_words': ['english'],\n",
       "                         'model__C': [1, 0.1, 0.01],\n",
       "                         'model__solver': ['liblinear']})"
      ]
     },
     "execution_count": 13,
     "metadata": {},
     "output_type": "execute_result"
    }
   ],
   "source": [
    "gs3.fit(X_train, y_train)"
   ]
  },
  {
   "cell_type": "code",
   "execution_count": 14,
   "id": "11a28125-c0ba-421c-9432-f3529ac20b7e",
   "metadata": {},
   "outputs": [
    {
     "name": "stdout",
     "output_type": "stream",
     "text": [
      "{'cvec__max_df': 0.9, 'cvec__max_features': 2000, 'cvec__min_df': 3, 'cvec__ngram_range': (1, 1), 'cvec__stop_words': 'english', 'model__C': 0.1, 'model__solver': 'liblinear'}\n"
     ]
    }
   ],
   "source": [
    "print(gs3.best_params_)"
   ]
  },
  {
   "cell_type": "code",
   "execution_count": 15,
   "id": "0093f39a-6b07-4e3c-89bb-f8d1b7c96a9f",
   "metadata": {},
   "outputs": [
    {
     "name": "stdout",
     "output_type": "stream",
     "text": [
      "0.9024865941759141\n"
     ]
    }
   ],
   "source": [
    "print(gs3.best_score_)"
   ]
  },
  {
   "cell_type": "code",
   "execution_count": 16,
   "id": "5b534e67-8de8-439c-a90a-df918049d34c",
   "metadata": {},
   "outputs": [
    {
     "data": {
      "text/plain": [
       "(0.9508196721311475, 0.9003880983182406)"
      ]
     },
     "execution_count": 16,
     "metadata": {},
     "output_type": "execute_result"
    }
   ],
   "source": [
    "gs3.score(X_train, y_train), gs3.score(X_test, y_test)"
   ]
  },
  {
   "cell_type": "markdown",
   "id": "dc54bc9d-983a-4831-9eb9-24700d5b1fb7",
   "metadata": {},
   "source": [
    "# Naive Bayes with Count Vectorizer"
   ]
  },
  {
   "cell_type": "code",
   "execution_count": null,
   "id": "44211325-32b3-4c45-91c3-f244659eb667",
   "metadata": {},
   "outputs": [],
   "source": [
    "pipe4 = Pipeline([\n",
    "    ('cvec', CountVectorizer()),\n",
    "    ('mnb', MultinomialNB())\n",
    "])"
   ]
  },
  {
   "cell_type": "code",
   "execution_count": null,
   "id": "86ab53d8-f132-4eb3-9960-5ddd32122698",
   "metadata": {},
   "outputs": [],
   "source": [
    "pipe_params4 = {\n",
    "    'cvec__stop_words': ['english'],\n",
    "    'cvec__max_features': [500, 1000, 2000],\n",
    "    'cvec__min_df': [2, 3],\n",
    "    'cvec__max_df': [.9, .95, .98],\n",
    "    'cvec__ngram_range': [(1,1), (1,2)],\n",
    "}"
   ]
  },
  {
   "cell_type": "code",
   "execution_count": 39,
   "id": "8cb34a09-ba30-411e-988d-14b0688ea755",
   "metadata": {},
   "outputs": [],
   "source": [
    "gs4 = GridSearchCV(pipe3, pipe_params4, cv =5)"
   ]
  },
  {
   "cell_type": "code",
   "execution_count": 40,
   "id": "71ace096-9e51-4451-b8e9-0c1215955999",
   "metadata": {},
   "outputs": [
    {
     "data": {
      "text/plain": [
       "GridSearchCV(cv=5,\n",
       "             estimator=Pipeline(steps=[('cvec', CountVectorizer()),\n",
       "                                       ('mnb', MultinomialNB())]),\n",
       "             param_grid={'cvec__max_df': [0.9, 0.95, 0.98],\n",
       "                         'cvec__max_features': [500, 1000, 2000],\n",
       "                         'cvec__min_df': [2, 3],\n",
       "                         'cvec__ngram_range': [(1, 1), (1, 2)],\n",
       "                         'cvec__stop_words': ['english']})"
      ]
     },
     "execution_count": 40,
     "metadata": {},
     "output_type": "execute_result"
    }
   ],
   "source": [
    "gs4.fit(X_train, y_train)"
   ]
  },
  {
   "cell_type": "code",
   "execution_count": 41,
   "id": "11275e0b-22f0-4970-9ac3-03246dcb1963",
   "metadata": {},
   "outputs": [
    {
     "name": "stdout",
     "output_type": "stream",
     "text": [
      "{'cvec__max_df': 0.9, 'cvec__max_features': 2000, 'cvec__min_df': 3, 'cvec__ngram_range': (1, 1), 'cvec__stop_words': 'english'}\n"
     ]
    }
   ],
   "source": [
    "print(gs4.best_params_)"
   ]
  },
  {
   "cell_type": "code",
   "execution_count": 42,
   "id": "fcc0d23c-8369-4a6a-b9ad-9272021a719d",
   "metadata": {},
   "outputs": [
    {
     "name": "stdout",
     "output_type": "stream",
     "text": [
      "0.8951552841289938\n"
     ]
    }
   ],
   "source": [
    "print(gs4.best_score_)"
   ]
  },
  {
   "cell_type": "code",
   "execution_count": 43,
   "id": "db596edb-9b9f-4ffc-9517-f6de48c829aa",
   "metadata": {},
   "outputs": [
    {
     "data": {
      "text/plain": [
       "(0.9257981018119068, 0.9094437257438551)"
      ]
     },
     "execution_count": 43,
     "metadata": {},
     "output_type": "execute_result"
    }
   ],
   "source": [
    "gs4.score(X_train, y_train), gs4.score(X_test, y_test)"
   ]
  },
  {
   "cell_type": "markdown",
   "id": "f1df7617-f1e9-436f-8584-24bd6d53897b",
   "metadata": {},
   "source": [
    "This model had a decent accuracy and not much overfitting. However the other Naive Bayes model was more accurate."
   ]
  }
 ],
 "metadata": {
  "kernelspec": {
   "display_name": "Python 3 (ipykernel)",
   "language": "python",
   "name": "python3"
  },
  "language_info": {
   "codemirror_mode": {
    "name": "ipython",
    "version": 3
   },
   "file_extension": ".py",
   "mimetype": "text/x-python",
   "name": "python",
   "nbconvert_exporter": "python",
   "pygments_lexer": "ipython3",
   "version": "3.9.7"
  }
 },
 "nbformat": 4,
 "nbformat_minor": 5
}
