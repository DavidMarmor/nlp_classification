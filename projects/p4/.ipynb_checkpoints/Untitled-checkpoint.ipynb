{
 "cells": [
  {
   "cell_type": "markdown",
   "id": "3d95bdcf-5b84-403b-8e70-6f99ff34b740",
   "metadata": {},
   "source": [
    "# Project 4"
   ]
  },
  {
   "cell_type": "code",
   "execution_count": 1,
   "id": "ce581c9c-80ff-4fd9-ac95-c8148037e7b3",
   "metadata": {},
   "outputs": [],
   "source": [
    "import numpy as np \n",
    "import pandas as pd \n",
    "import seaborn as sns \n",
    "import matplotlib.pyplot as plt \n",
    "from sklearn import metrics\n",
    "from sklearn.linear_model import LinearRegression\n",
    "from sklearn.model_selection import train_test_split, cross_val_score\n",
    "from sklearn.model_selection import cross_val_predict\n",
    "from sklearn.metrics import mean_squared_error\n",
    "from sklearn.preprocessing import StandardScaler, PolynomialFeatures\n",
    "from sklearn.preprocessing import OrdinalEncoder\n",
    "from sklearn.linear_model import Ridge\n",
    "from sklearn.linear_model import RidgeCV\n",
    "from sklearn.linear_model import Lasso, LassoCV\n",
    "from sklearn.metrics import mean_absolute_error\n",
    "from sklearn.metrics import mean_squared_error\n",
    "from sklearn.ensemble import RandomForestRegressor \n",
    "from sklearn.svm import SVR\n",
    "from sklearn.neighbors import KNeighborsRegressor"
   ]
  },
  {
   "cell_type": "markdown",
   "id": "05b1a7c3-a0dd-4d54-b05b-c5d35f790d3c",
   "metadata": {},
   "source": [
    "# Problem Statement "
   ]
  },
  {
   "cell_type": "markdown",
   "id": "6e75ac91-0cf5-4388-970e-82ed879cb771",
   "metadata": {},
   "source": [
    "Can we predict sales at a restaurant?"
   ]
  },
  {
   "cell_type": "markdown",
   "id": "2ed4c8b4-7e96-4d64-8eb1-321aafe2945e",
   "metadata": {},
   "source": [
    "# Data Cleaning"
   ]
  },
  {
   "cell_type": "code",
   "execution_count": 2,
   "id": "cc74db23-2e7e-4d42-b1c2-c40a8b91b90a",
   "metadata": {},
   "outputs": [],
   "source": [
    "df = pd.read_csv('train.csv')"
   ]
  },
  {
   "cell_type": "code",
   "execution_count": 3,
   "id": "6a3aa328-1b88-4ff0-889a-65e1fd7b12cd",
   "metadata": {},
   "outputs": [
    {
     "data": {
      "text/html": [
       "<div>\n",
       "<style scoped>\n",
       "    .dataframe tbody tr th:only-of-type {\n",
       "        vertical-align: middle;\n",
       "    }\n",
       "\n",
       "    .dataframe tbody tr th {\n",
       "        vertical-align: top;\n",
       "    }\n",
       "\n",
       "    .dataframe thead th {\n",
       "        text-align: right;\n",
       "    }\n",
       "</style>\n",
       "<table border=\"1\" class=\"dataframe\">\n",
       "  <thead>\n",
       "    <tr style=\"text-align: right;\">\n",
       "      <th></th>\n",
       "      <th>Id</th>\n",
       "      <th>Open Date</th>\n",
       "      <th>City</th>\n",
       "      <th>City Group</th>\n",
       "      <th>Type</th>\n",
       "      <th>P1</th>\n",
       "      <th>P2</th>\n",
       "      <th>P3</th>\n",
       "      <th>P4</th>\n",
       "      <th>P5</th>\n",
       "      <th>...</th>\n",
       "      <th>P29</th>\n",
       "      <th>P30</th>\n",
       "      <th>P31</th>\n",
       "      <th>P32</th>\n",
       "      <th>P33</th>\n",
       "      <th>P34</th>\n",
       "      <th>P35</th>\n",
       "      <th>P36</th>\n",
       "      <th>P37</th>\n",
       "      <th>revenue</th>\n",
       "    </tr>\n",
       "  </thead>\n",
       "  <tbody>\n",
       "    <tr>\n",
       "      <th>0</th>\n",
       "      <td>0</td>\n",
       "      <td>07/17/1999</td>\n",
       "      <td>İstanbul</td>\n",
       "      <td>Big Cities</td>\n",
       "      <td>IL</td>\n",
       "      <td>4</td>\n",
       "      <td>5.0</td>\n",
       "      <td>4.0</td>\n",
       "      <td>4.0</td>\n",
       "      <td>2</td>\n",
       "      <td>...</td>\n",
       "      <td>3.0</td>\n",
       "      <td>5</td>\n",
       "      <td>3</td>\n",
       "      <td>4</td>\n",
       "      <td>5</td>\n",
       "      <td>5</td>\n",
       "      <td>4</td>\n",
       "      <td>3</td>\n",
       "      <td>4</td>\n",
       "      <td>5653753.0</td>\n",
       "    </tr>\n",
       "    <tr>\n",
       "      <th>1</th>\n",
       "      <td>1</td>\n",
       "      <td>02/14/2008</td>\n",
       "      <td>Ankara</td>\n",
       "      <td>Big Cities</td>\n",
       "      <td>FC</td>\n",
       "      <td>4</td>\n",
       "      <td>5.0</td>\n",
       "      <td>4.0</td>\n",
       "      <td>4.0</td>\n",
       "      <td>1</td>\n",
       "      <td>...</td>\n",
       "      <td>3.0</td>\n",
       "      <td>0</td>\n",
       "      <td>0</td>\n",
       "      <td>0</td>\n",
       "      <td>0</td>\n",
       "      <td>0</td>\n",
       "      <td>0</td>\n",
       "      <td>0</td>\n",
       "      <td>0</td>\n",
       "      <td>6923131.0</td>\n",
       "    </tr>\n",
       "    <tr>\n",
       "      <th>2</th>\n",
       "      <td>2</td>\n",
       "      <td>03/09/2013</td>\n",
       "      <td>Diyarbakır</td>\n",
       "      <td>Other</td>\n",
       "      <td>IL</td>\n",
       "      <td>2</td>\n",
       "      <td>4.0</td>\n",
       "      <td>2.0</td>\n",
       "      <td>5.0</td>\n",
       "      <td>2</td>\n",
       "      <td>...</td>\n",
       "      <td>3.0</td>\n",
       "      <td>0</td>\n",
       "      <td>0</td>\n",
       "      <td>0</td>\n",
       "      <td>0</td>\n",
       "      <td>0</td>\n",
       "      <td>0</td>\n",
       "      <td>0</td>\n",
       "      <td>0</td>\n",
       "      <td>2055379.0</td>\n",
       "    </tr>\n",
       "    <tr>\n",
       "      <th>3</th>\n",
       "      <td>3</td>\n",
       "      <td>02/02/2012</td>\n",
       "      <td>Tokat</td>\n",
       "      <td>Other</td>\n",
       "      <td>IL</td>\n",
       "      <td>6</td>\n",
       "      <td>4.5</td>\n",
       "      <td>6.0</td>\n",
       "      <td>6.0</td>\n",
       "      <td>4</td>\n",
       "      <td>...</td>\n",
       "      <td>7.5</td>\n",
       "      <td>25</td>\n",
       "      <td>12</td>\n",
       "      <td>10</td>\n",
       "      <td>6</td>\n",
       "      <td>18</td>\n",
       "      <td>12</td>\n",
       "      <td>12</td>\n",
       "      <td>6</td>\n",
       "      <td>2675511.0</td>\n",
       "    </tr>\n",
       "    <tr>\n",
       "      <th>4</th>\n",
       "      <td>4</td>\n",
       "      <td>05/09/2009</td>\n",
       "      <td>Gaziantep</td>\n",
       "      <td>Other</td>\n",
       "      <td>IL</td>\n",
       "      <td>3</td>\n",
       "      <td>4.0</td>\n",
       "      <td>3.0</td>\n",
       "      <td>4.0</td>\n",
       "      <td>2</td>\n",
       "      <td>...</td>\n",
       "      <td>3.0</td>\n",
       "      <td>5</td>\n",
       "      <td>1</td>\n",
       "      <td>3</td>\n",
       "      <td>2</td>\n",
       "      <td>3</td>\n",
       "      <td>4</td>\n",
       "      <td>3</td>\n",
       "      <td>3</td>\n",
       "      <td>4316715.0</td>\n",
       "    </tr>\n",
       "  </tbody>\n",
       "</table>\n",
       "<p>5 rows × 43 columns</p>\n",
       "</div>"
      ],
      "text/plain": [
       "   Id   Open Date        City  City Group Type  P1   P2   P3   P4  P5  ...  \\\n",
       "0   0  07/17/1999    İstanbul  Big Cities   IL   4  5.0  4.0  4.0   2  ...   \n",
       "1   1  02/14/2008      Ankara  Big Cities   FC   4  5.0  4.0  4.0   1  ...   \n",
       "2   2  03/09/2013  Diyarbakır       Other   IL   2  4.0  2.0  5.0   2  ...   \n",
       "3   3  02/02/2012       Tokat       Other   IL   6  4.5  6.0  6.0   4  ...   \n",
       "4   4  05/09/2009   Gaziantep       Other   IL   3  4.0  3.0  4.0   2  ...   \n",
       "\n",
       "   P29  P30  P31  P32  P33  P34  P35  P36  P37    revenue  \n",
       "0  3.0    5    3    4    5    5    4    3    4  5653753.0  \n",
       "1  3.0    0    0    0    0    0    0    0    0  6923131.0  \n",
       "2  3.0    0    0    0    0    0    0    0    0  2055379.0  \n",
       "3  7.5   25   12   10    6   18   12   12    6  2675511.0  \n",
       "4  3.0    5    1    3    2    3    4    3    3  4316715.0  \n",
       "\n",
       "[5 rows x 43 columns]"
      ]
     },
     "execution_count": 3,
     "metadata": {},
     "output_type": "execute_result"
    }
   ],
   "source": [
    "df.head()"
   ]
  },
  {
   "cell_type": "code",
   "execution_count": 4,
   "id": "81072a5f-1b3e-4f0c-8040-a01bc72952a6",
   "metadata": {},
   "outputs": [
    {
     "name": "stdout",
     "output_type": "stream",
     "text": [
      "<class 'pandas.core.frame.DataFrame'>\n",
      "RangeIndex: 137 entries, 0 to 136\n",
      "Data columns (total 43 columns):\n",
      " #   Column      Non-Null Count  Dtype  \n",
      "---  ------      --------------  -----  \n",
      " 0   Id          137 non-null    int64  \n",
      " 1   Open Date   137 non-null    object \n",
      " 2   City        137 non-null    object \n",
      " 3   City Group  137 non-null    object \n",
      " 4   Type        137 non-null    object \n",
      " 5   P1          137 non-null    int64  \n",
      " 6   P2          137 non-null    float64\n",
      " 7   P3          137 non-null    float64\n",
      " 8   P4          137 non-null    float64\n",
      " 9   P5          137 non-null    int64  \n",
      " 10  P6          137 non-null    int64  \n",
      " 11  P7          137 non-null    int64  \n",
      " 12  P8          137 non-null    int64  \n",
      " 13  P9          137 non-null    int64  \n",
      " 14  P10         137 non-null    int64  \n",
      " 15  P11         137 non-null    int64  \n",
      " 16  P12         137 non-null    int64  \n",
      " 17  P13         137 non-null    float64\n",
      " 18  P14         137 non-null    int64  \n",
      " 19  P15         137 non-null    int64  \n",
      " 20  P16         137 non-null    int64  \n",
      " 21  P17         137 non-null    int64  \n",
      " 22  P18         137 non-null    int64  \n",
      " 23  P19         137 non-null    int64  \n",
      " 24  P20         137 non-null    int64  \n",
      " 25  P21         137 non-null    int64  \n",
      " 26  P22         137 non-null    int64  \n",
      " 27  P23         137 non-null    int64  \n",
      " 28  P24         137 non-null    int64  \n",
      " 29  P25         137 non-null    int64  \n",
      " 30  P26         137 non-null    float64\n",
      " 31  P27         137 non-null    float64\n",
      " 32  P28         137 non-null    float64\n",
      " 33  P29         137 non-null    float64\n",
      " 34  P30         137 non-null    int64  \n",
      " 35  P31         137 non-null    int64  \n",
      " 36  P32         137 non-null    int64  \n",
      " 37  P33         137 non-null    int64  \n",
      " 38  P34         137 non-null    int64  \n",
      " 39  P35         137 non-null    int64  \n",
      " 40  P36         137 non-null    int64  \n",
      " 41  P37         137 non-null    int64  \n",
      " 42  revenue     137 non-null    float64\n",
      "dtypes: float64(9), int64(30), object(4)\n",
      "memory usage: 46.1+ KB\n"
     ]
    }
   ],
   "source": [
    "df.info()"
   ]
  },
  {
   "cell_type": "markdown",
   "id": "22c5e7ce-0db3-44aa-8e43-fe47c0e2bbc5",
   "metadata": {},
   "source": [
    "Looks like no null values"
   ]
  },
  {
   "cell_type": "code",
   "execution_count": 5,
   "id": "c3172183-e8ee-4705-a707-4b8111bc1bcb",
   "metadata": {},
   "outputs": [
    {
     "data": {
      "text/plain": [
       "FC    76\n",
       "IL    60\n",
       "DT     1\n",
       "Name: Type, dtype: int64"
      ]
     },
     "execution_count": 5,
     "metadata": {},
     "output_type": "execute_result"
    }
   ],
   "source": [
    "df['Type'].value_counts()"
   ]
  },
  {
   "cell_type": "code",
   "execution_count": 6,
   "id": "a15f7572-87d9-41d4-89c7-5ca9311e475d",
   "metadata": {},
   "outputs": [
    {
     "data": {
      "text/plain": [
       "Big Cities    78\n",
       "Other         59\n",
       "Name: City Group, dtype: int64"
      ]
     },
     "execution_count": 6,
     "metadata": {},
     "output_type": "execute_result"
    }
   ],
   "source": [
    "df['City Group'].value_counts()"
   ]
  },
  {
   "cell_type": "code",
   "execution_count": 7,
   "id": "dbf274c8-038b-4fe4-a4ac-50af17280467",
   "metadata": {},
   "outputs": [
    {
     "data": {
      "text/plain": [
       "İstanbul          50\n",
       "Ankara            19\n",
       "İzmir              9\n",
       "Bursa              5\n",
       "Samsun             5\n",
       "Sakarya            4\n",
       "Antalya            4\n",
       "Kayseri            3\n",
       "Eskişehir          3\n",
       "Adana              3\n",
       "Diyarbakır         3\n",
       "Tekirdağ           3\n",
       "Muğla              2\n",
       "Trabzon            2\n",
       "Aydın              2\n",
       "Konya              2\n",
       "Karabük            1\n",
       "Isparta            1\n",
       "Bolu               1\n",
       "Kütahya            1\n",
       "Amasya             1\n",
       "Balıkesir          1\n",
       "Denizli            1\n",
       "Kocaeli            1\n",
       "Kırklareli         1\n",
       "Edirne             1\n",
       "Uşak               1\n",
       "Kastamonu          1\n",
       "Tokat              1\n",
       "Şanlıurfa          1\n",
       "Elazığ             1\n",
       "Gaziantep          1\n",
       "Afyonkarahisar     1\n",
       "Osmaniye           1\n",
       "Name: City, dtype: int64"
      ]
     },
     "execution_count": 7,
     "metadata": {},
     "output_type": "execute_result"
    }
   ],
   "source": [
    "df['City'].value_counts()"
   ]
  },
  {
   "cell_type": "code",
   "execution_count": 8,
   "id": "4c10a6be-07f2-4ba9-8221-be90364eba77",
   "metadata": {},
   "outputs": [
    {
     "data": {
      "text/plain": [
       "02/23/2010    2\n",
       "01/07/2000    2\n",
       "02/02/2012    2\n",
       "07/17/1999    1\n",
       "06/20/2007    1\n",
       "             ..\n",
       "06/01/2009    1\n",
       "02/09/2011    1\n",
       "03/28/2009    1\n",
       "01/18/2011    1\n",
       "09/01/2009    1\n",
       "Name: Open Date, Length: 134, dtype: int64"
      ]
     },
     "execution_count": 8,
     "metadata": {},
     "output_type": "execute_result"
    }
   ],
   "source": [
    "df['Open Date'].value_counts()"
   ]
  },
  {
   "cell_type": "code",
   "execution_count": 9,
   "id": "cf6b3f65-4a65-4f7b-8f68-c366dc368d59",
   "metadata": {},
   "outputs": [],
   "source": [
    "df['Month'] = df['Open Date'].str.split('/', expand = True)[0]"
   ]
  },
  {
   "cell_type": "code",
   "execution_count": 10,
   "id": "9e4de4a3-9d60-4e4c-bdd8-a5168cde2d4b",
   "metadata": {},
   "outputs": [],
   "source": [
    "df['Day'] = df['Open Date'].str.split('/', expand = True)[1]"
   ]
  },
  {
   "cell_type": "code",
   "execution_count": 11,
   "id": "e09e5b91-ba95-46b7-afe3-9807b3c13302",
   "metadata": {},
   "outputs": [],
   "source": [
    "df['Year'] = df['Open Date'].str.split('/', expand = True)[2]"
   ]
  },
  {
   "cell_type": "code",
   "execution_count": 12,
   "id": "91f05d54-f02c-427c-9a79-f41009e6fbd7",
   "metadata": {},
   "outputs": [
    {
     "data": {
      "text/html": [
       "<div>\n",
       "<style scoped>\n",
       "    .dataframe tbody tr th:only-of-type {\n",
       "        vertical-align: middle;\n",
       "    }\n",
       "\n",
       "    .dataframe tbody tr th {\n",
       "        vertical-align: top;\n",
       "    }\n",
       "\n",
       "    .dataframe thead th {\n",
       "        text-align: right;\n",
       "    }\n",
       "</style>\n",
       "<table border=\"1\" class=\"dataframe\">\n",
       "  <thead>\n",
       "    <tr style=\"text-align: right;\">\n",
       "      <th></th>\n",
       "      <th>Id</th>\n",
       "      <th>Open Date</th>\n",
       "      <th>City</th>\n",
       "      <th>City Group</th>\n",
       "      <th>Type</th>\n",
       "      <th>P1</th>\n",
       "      <th>P2</th>\n",
       "      <th>P3</th>\n",
       "      <th>P4</th>\n",
       "      <th>P5</th>\n",
       "      <th>...</th>\n",
       "      <th>P32</th>\n",
       "      <th>P33</th>\n",
       "      <th>P34</th>\n",
       "      <th>P35</th>\n",
       "      <th>P36</th>\n",
       "      <th>P37</th>\n",
       "      <th>revenue</th>\n",
       "      <th>Month</th>\n",
       "      <th>Day</th>\n",
       "      <th>Year</th>\n",
       "    </tr>\n",
       "  </thead>\n",
       "  <tbody>\n",
       "    <tr>\n",
       "      <th>0</th>\n",
       "      <td>0</td>\n",
       "      <td>07/17/1999</td>\n",
       "      <td>İstanbul</td>\n",
       "      <td>Big Cities</td>\n",
       "      <td>IL</td>\n",
       "      <td>4</td>\n",
       "      <td>5.0</td>\n",
       "      <td>4.0</td>\n",
       "      <td>4.0</td>\n",
       "      <td>2</td>\n",
       "      <td>...</td>\n",
       "      <td>4</td>\n",
       "      <td>5</td>\n",
       "      <td>5</td>\n",
       "      <td>4</td>\n",
       "      <td>3</td>\n",
       "      <td>4</td>\n",
       "      <td>5653753.0</td>\n",
       "      <td>07</td>\n",
       "      <td>17</td>\n",
       "      <td>1999</td>\n",
       "    </tr>\n",
       "    <tr>\n",
       "      <th>1</th>\n",
       "      <td>1</td>\n",
       "      <td>02/14/2008</td>\n",
       "      <td>Ankara</td>\n",
       "      <td>Big Cities</td>\n",
       "      <td>FC</td>\n",
       "      <td>4</td>\n",
       "      <td>5.0</td>\n",
       "      <td>4.0</td>\n",
       "      <td>4.0</td>\n",
       "      <td>1</td>\n",
       "      <td>...</td>\n",
       "      <td>0</td>\n",
       "      <td>0</td>\n",
       "      <td>0</td>\n",
       "      <td>0</td>\n",
       "      <td>0</td>\n",
       "      <td>0</td>\n",
       "      <td>6923131.0</td>\n",
       "      <td>02</td>\n",
       "      <td>14</td>\n",
       "      <td>2008</td>\n",
       "    </tr>\n",
       "    <tr>\n",
       "      <th>2</th>\n",
       "      <td>2</td>\n",
       "      <td>03/09/2013</td>\n",
       "      <td>Diyarbakır</td>\n",
       "      <td>Other</td>\n",
       "      <td>IL</td>\n",
       "      <td>2</td>\n",
       "      <td>4.0</td>\n",
       "      <td>2.0</td>\n",
       "      <td>5.0</td>\n",
       "      <td>2</td>\n",
       "      <td>...</td>\n",
       "      <td>0</td>\n",
       "      <td>0</td>\n",
       "      <td>0</td>\n",
       "      <td>0</td>\n",
       "      <td>0</td>\n",
       "      <td>0</td>\n",
       "      <td>2055379.0</td>\n",
       "      <td>03</td>\n",
       "      <td>09</td>\n",
       "      <td>2013</td>\n",
       "    </tr>\n",
       "    <tr>\n",
       "      <th>3</th>\n",
       "      <td>3</td>\n",
       "      <td>02/02/2012</td>\n",
       "      <td>Tokat</td>\n",
       "      <td>Other</td>\n",
       "      <td>IL</td>\n",
       "      <td>6</td>\n",
       "      <td>4.5</td>\n",
       "      <td>6.0</td>\n",
       "      <td>6.0</td>\n",
       "      <td>4</td>\n",
       "      <td>...</td>\n",
       "      <td>10</td>\n",
       "      <td>6</td>\n",
       "      <td>18</td>\n",
       "      <td>12</td>\n",
       "      <td>12</td>\n",
       "      <td>6</td>\n",
       "      <td>2675511.0</td>\n",
       "      <td>02</td>\n",
       "      <td>02</td>\n",
       "      <td>2012</td>\n",
       "    </tr>\n",
       "    <tr>\n",
       "      <th>4</th>\n",
       "      <td>4</td>\n",
       "      <td>05/09/2009</td>\n",
       "      <td>Gaziantep</td>\n",
       "      <td>Other</td>\n",
       "      <td>IL</td>\n",
       "      <td>3</td>\n",
       "      <td>4.0</td>\n",
       "      <td>3.0</td>\n",
       "      <td>4.0</td>\n",
       "      <td>2</td>\n",
       "      <td>...</td>\n",
       "      <td>3</td>\n",
       "      <td>2</td>\n",
       "      <td>3</td>\n",
       "      <td>4</td>\n",
       "      <td>3</td>\n",
       "      <td>3</td>\n",
       "      <td>4316715.0</td>\n",
       "      <td>05</td>\n",
       "      <td>09</td>\n",
       "      <td>2009</td>\n",
       "    </tr>\n",
       "  </tbody>\n",
       "</table>\n",
       "<p>5 rows × 46 columns</p>\n",
       "</div>"
      ],
      "text/plain": [
       "   Id   Open Date        City  City Group Type  P1   P2   P3   P4  P5  ...  \\\n",
       "0   0  07/17/1999    İstanbul  Big Cities   IL   4  5.0  4.0  4.0   2  ...   \n",
       "1   1  02/14/2008      Ankara  Big Cities   FC   4  5.0  4.0  4.0   1  ...   \n",
       "2   2  03/09/2013  Diyarbakır       Other   IL   2  4.0  2.0  5.0   2  ...   \n",
       "3   3  02/02/2012       Tokat       Other   IL   6  4.5  6.0  6.0   4  ...   \n",
       "4   4  05/09/2009   Gaziantep       Other   IL   3  4.0  3.0  4.0   2  ...   \n",
       "\n",
       "   P32  P33  P34  P35  P36  P37    revenue  Month  Day  Year  \n",
       "0    4    5    5    4    3    4  5653753.0     07   17  1999  \n",
       "1    0    0    0    0    0    0  6923131.0     02   14  2008  \n",
       "2    0    0    0    0    0    0  2055379.0     03   09  2013  \n",
       "3   10    6   18   12   12    6  2675511.0     02   02  2012  \n",
       "4    3    2    3    4    3    3  4316715.0     05   09  2009  \n",
       "\n",
       "[5 rows x 46 columns]"
      ]
     },
     "execution_count": 12,
     "metadata": {},
     "output_type": "execute_result"
    }
   ],
   "source": [
    "df.head()"
   ]
  },
  {
   "cell_type": "code",
   "execution_count": 13,
   "id": "92958375-7d3c-4204-8bbd-34855f3ef494",
   "metadata": {},
   "outputs": [],
   "source": [
    "df.drop(columns = ['Open Date', 'Id'], inplace = True)"
   ]
  },
  {
   "cell_type": "code",
   "execution_count": 14,
   "id": "6615dfb0-f186-4e42-bb50-526536cfc5a4",
   "metadata": {},
   "outputs": [
    {
     "data": {
      "text/html": [
       "<div>\n",
       "<style scoped>\n",
       "    .dataframe tbody tr th:only-of-type {\n",
       "        vertical-align: middle;\n",
       "    }\n",
       "\n",
       "    .dataframe tbody tr th {\n",
       "        vertical-align: top;\n",
       "    }\n",
       "\n",
       "    .dataframe thead th {\n",
       "        text-align: right;\n",
       "    }\n",
       "</style>\n",
       "<table border=\"1\" class=\"dataframe\">\n",
       "  <thead>\n",
       "    <tr style=\"text-align: right;\">\n",
       "      <th></th>\n",
       "      <th>City</th>\n",
       "      <th>City Group</th>\n",
       "      <th>Type</th>\n",
       "      <th>P1</th>\n",
       "      <th>P2</th>\n",
       "      <th>P3</th>\n",
       "      <th>P4</th>\n",
       "      <th>P5</th>\n",
       "      <th>P6</th>\n",
       "      <th>P7</th>\n",
       "      <th>...</th>\n",
       "      <th>P32</th>\n",
       "      <th>P33</th>\n",
       "      <th>P34</th>\n",
       "      <th>P35</th>\n",
       "      <th>P36</th>\n",
       "      <th>P37</th>\n",
       "      <th>revenue</th>\n",
       "      <th>Month</th>\n",
       "      <th>Day</th>\n",
       "      <th>Year</th>\n",
       "    </tr>\n",
       "  </thead>\n",
       "  <tbody>\n",
       "    <tr>\n",
       "      <th>0</th>\n",
       "      <td>İstanbul</td>\n",
       "      <td>Big Cities</td>\n",
       "      <td>IL</td>\n",
       "      <td>4</td>\n",
       "      <td>5.0</td>\n",
       "      <td>4.0</td>\n",
       "      <td>4.0</td>\n",
       "      <td>2</td>\n",
       "      <td>2</td>\n",
       "      <td>5</td>\n",
       "      <td>...</td>\n",
       "      <td>4</td>\n",
       "      <td>5</td>\n",
       "      <td>5</td>\n",
       "      <td>4</td>\n",
       "      <td>3</td>\n",
       "      <td>4</td>\n",
       "      <td>5653753.0</td>\n",
       "      <td>07</td>\n",
       "      <td>17</td>\n",
       "      <td>1999</td>\n",
       "    </tr>\n",
       "    <tr>\n",
       "      <th>1</th>\n",
       "      <td>Ankara</td>\n",
       "      <td>Big Cities</td>\n",
       "      <td>FC</td>\n",
       "      <td>4</td>\n",
       "      <td>5.0</td>\n",
       "      <td>4.0</td>\n",
       "      <td>4.0</td>\n",
       "      <td>1</td>\n",
       "      <td>2</td>\n",
       "      <td>5</td>\n",
       "      <td>...</td>\n",
       "      <td>0</td>\n",
       "      <td>0</td>\n",
       "      <td>0</td>\n",
       "      <td>0</td>\n",
       "      <td>0</td>\n",
       "      <td>0</td>\n",
       "      <td>6923131.0</td>\n",
       "      <td>02</td>\n",
       "      <td>14</td>\n",
       "      <td>2008</td>\n",
       "    </tr>\n",
       "    <tr>\n",
       "      <th>2</th>\n",
       "      <td>Diyarbakır</td>\n",
       "      <td>Other</td>\n",
       "      <td>IL</td>\n",
       "      <td>2</td>\n",
       "      <td>4.0</td>\n",
       "      <td>2.0</td>\n",
       "      <td>5.0</td>\n",
       "      <td>2</td>\n",
       "      <td>3</td>\n",
       "      <td>5</td>\n",
       "      <td>...</td>\n",
       "      <td>0</td>\n",
       "      <td>0</td>\n",
       "      <td>0</td>\n",
       "      <td>0</td>\n",
       "      <td>0</td>\n",
       "      <td>0</td>\n",
       "      <td>2055379.0</td>\n",
       "      <td>03</td>\n",
       "      <td>09</td>\n",
       "      <td>2013</td>\n",
       "    </tr>\n",
       "    <tr>\n",
       "      <th>3</th>\n",
       "      <td>Tokat</td>\n",
       "      <td>Other</td>\n",
       "      <td>IL</td>\n",
       "      <td>6</td>\n",
       "      <td>4.5</td>\n",
       "      <td>6.0</td>\n",
       "      <td>6.0</td>\n",
       "      <td>4</td>\n",
       "      <td>4</td>\n",
       "      <td>10</td>\n",
       "      <td>...</td>\n",
       "      <td>10</td>\n",
       "      <td>6</td>\n",
       "      <td>18</td>\n",
       "      <td>12</td>\n",
       "      <td>12</td>\n",
       "      <td>6</td>\n",
       "      <td>2675511.0</td>\n",
       "      <td>02</td>\n",
       "      <td>02</td>\n",
       "      <td>2012</td>\n",
       "    </tr>\n",
       "    <tr>\n",
       "      <th>4</th>\n",
       "      <td>Gaziantep</td>\n",
       "      <td>Other</td>\n",
       "      <td>IL</td>\n",
       "      <td>3</td>\n",
       "      <td>4.0</td>\n",
       "      <td>3.0</td>\n",
       "      <td>4.0</td>\n",
       "      <td>2</td>\n",
       "      <td>2</td>\n",
       "      <td>5</td>\n",
       "      <td>...</td>\n",
       "      <td>3</td>\n",
       "      <td>2</td>\n",
       "      <td>3</td>\n",
       "      <td>4</td>\n",
       "      <td>3</td>\n",
       "      <td>3</td>\n",
       "      <td>4316715.0</td>\n",
       "      <td>05</td>\n",
       "      <td>09</td>\n",
       "      <td>2009</td>\n",
       "    </tr>\n",
       "  </tbody>\n",
       "</table>\n",
       "<p>5 rows × 44 columns</p>\n",
       "</div>"
      ],
      "text/plain": [
       "         City  City Group Type  P1   P2   P3   P4  P5  P6  P7  ...  P32  P33  \\\n",
       "0    İstanbul  Big Cities   IL   4  5.0  4.0  4.0   2   2   5  ...    4    5   \n",
       "1      Ankara  Big Cities   FC   4  5.0  4.0  4.0   1   2   5  ...    0    0   \n",
       "2  Diyarbakır       Other   IL   2  4.0  2.0  5.0   2   3   5  ...    0    0   \n",
       "3       Tokat       Other   IL   6  4.5  6.0  6.0   4   4  10  ...   10    6   \n",
       "4   Gaziantep       Other   IL   3  4.0  3.0  4.0   2   2   5  ...    3    2   \n",
       "\n",
       "   P34  P35  P36  P37    revenue  Month  Day  Year  \n",
       "0    5    4    3    4  5653753.0     07   17  1999  \n",
       "1    0    0    0    0  6923131.0     02   14  2008  \n",
       "2    0    0    0    0  2055379.0     03   09  2013  \n",
       "3   18   12   12    6  2675511.0     02   02  2012  \n",
       "4    3    4    3    3  4316715.0     05   09  2009  \n",
       "\n",
       "[5 rows x 44 columns]"
      ]
     },
     "execution_count": 14,
     "metadata": {},
     "output_type": "execute_result"
    }
   ],
   "source": [
    "df.head()"
   ]
  },
  {
   "cell_type": "code",
   "execution_count": 15,
   "id": "334f9122-0d90-4760-af30-361aa145c586",
   "metadata": {},
   "outputs": [],
   "source": [
    "d1 = pd.get_dummies(df['Type'], drop_first =True) # food court, inline, drive through, or mobile\n",
    "d2 = pd.get_dummies(df['City Group'], drop_first =True) #big cities or other \n",
    "d3 = pd.get_dummies(df['City'])"
   ]
  },
  {
   "cell_type": "code",
   "execution_count": 16,
   "id": "6b396055-29e1-4298-be56-1f0c6a4634d6",
   "metadata": {},
   "outputs": [],
   "source": [
    "df = df.join(d1) \n",
    "df = df.join(d2)\n",
    "df = df.join(d3)"
   ]
  },
  {
   "cell_type": "code",
   "execution_count": 17,
   "id": "594d8057-cd6f-4633-89b8-1bb2662258fc",
   "metadata": {},
   "outputs": [],
   "source": [
    "df['Month'] = df['Month'].astype(int)"
   ]
  },
  {
   "cell_type": "code",
   "execution_count": 18,
   "id": "e78a0ae5-3eb5-4a71-bf59-994a78441544",
   "metadata": {},
   "outputs": [],
   "source": [
    "df['Day'] = df['Day'].astype(int)"
   ]
  },
  {
   "cell_type": "code",
   "execution_count": 19,
   "id": "8e16ad84-aee3-485b-b715-349cc5826078",
   "metadata": {},
   "outputs": [],
   "source": [
    "df['Year'] = df['Year'].astype(int)"
   ]
  },
  {
   "cell_type": "code",
   "execution_count": 20,
   "id": "5943798d-96e3-4230-89a1-aeecf3fc2b71",
   "metadata": {},
   "outputs": [
    {
     "data": {
      "text/html": [
       "<div>\n",
       "<style scoped>\n",
       "    .dataframe tbody tr th:only-of-type {\n",
       "        vertical-align: middle;\n",
       "    }\n",
       "\n",
       "    .dataframe tbody tr th {\n",
       "        vertical-align: top;\n",
       "    }\n",
       "\n",
       "    .dataframe thead th {\n",
       "        text-align: right;\n",
       "    }\n",
       "</style>\n",
       "<table border=\"1\" class=\"dataframe\">\n",
       "  <thead>\n",
       "    <tr style=\"text-align: right;\">\n",
       "      <th></th>\n",
       "      <th>P1</th>\n",
       "      <th>P2</th>\n",
       "      <th>P3</th>\n",
       "      <th>P4</th>\n",
       "      <th>P5</th>\n",
       "      <th>P6</th>\n",
       "      <th>P7</th>\n",
       "      <th>P8</th>\n",
       "      <th>P9</th>\n",
       "      <th>P10</th>\n",
       "      <th>...</th>\n",
       "      <th>Osmaniye</th>\n",
       "      <th>Sakarya</th>\n",
       "      <th>Samsun</th>\n",
       "      <th>Tekirdağ</th>\n",
       "      <th>Tokat</th>\n",
       "      <th>Trabzon</th>\n",
       "      <th>Uşak</th>\n",
       "      <th>İstanbul</th>\n",
       "      <th>İzmir</th>\n",
       "      <th>Şanlıurfa</th>\n",
       "    </tr>\n",
       "  </thead>\n",
       "  <tbody>\n",
       "    <tr>\n",
       "      <th>count</th>\n",
       "      <td>137.000000</td>\n",
       "      <td>137.000000</td>\n",
       "      <td>137.000000</td>\n",
       "      <td>137.000000</td>\n",
       "      <td>137.000000</td>\n",
       "      <td>137.000000</td>\n",
       "      <td>137.000000</td>\n",
       "      <td>137.000000</td>\n",
       "      <td>137.000000</td>\n",
       "      <td>137.000000</td>\n",
       "      <td>...</td>\n",
       "      <td>137.000000</td>\n",
       "      <td>137.000000</td>\n",
       "      <td>137.000000</td>\n",
       "      <td>137.000000</td>\n",
       "      <td>137.000000</td>\n",
       "      <td>137.000000</td>\n",
       "      <td>137.000000</td>\n",
       "      <td>137.000000</td>\n",
       "      <td>137.000000</td>\n",
       "      <td>137.000000</td>\n",
       "    </tr>\n",
       "    <tr>\n",
       "      <th>mean</th>\n",
       "      <td>4.014599</td>\n",
       "      <td>4.408759</td>\n",
       "      <td>4.317518</td>\n",
       "      <td>4.372263</td>\n",
       "      <td>2.007299</td>\n",
       "      <td>3.357664</td>\n",
       "      <td>5.423358</td>\n",
       "      <td>5.153285</td>\n",
       "      <td>5.445255</td>\n",
       "      <td>5.489051</td>\n",
       "      <td>...</td>\n",
       "      <td>0.007299</td>\n",
       "      <td>0.029197</td>\n",
       "      <td>0.036496</td>\n",
       "      <td>0.021898</td>\n",
       "      <td>0.007299</td>\n",
       "      <td>0.014599</td>\n",
       "      <td>0.007299</td>\n",
       "      <td>0.364964</td>\n",
       "      <td>0.065693</td>\n",
       "      <td>0.007299</td>\n",
       "    </tr>\n",
       "    <tr>\n",
       "      <th>std</th>\n",
       "      <td>2.910391</td>\n",
       "      <td>1.514900</td>\n",
       "      <td>1.032337</td>\n",
       "      <td>1.016462</td>\n",
       "      <td>1.209620</td>\n",
       "      <td>2.134235</td>\n",
       "      <td>2.296809</td>\n",
       "      <td>1.858567</td>\n",
       "      <td>1.834793</td>\n",
       "      <td>1.847561</td>\n",
       "      <td>...</td>\n",
       "      <td>0.085436</td>\n",
       "      <td>0.168976</td>\n",
       "      <td>0.188210</td>\n",
       "      <td>0.146887</td>\n",
       "      <td>0.085436</td>\n",
       "      <td>0.120379</td>\n",
       "      <td>0.085436</td>\n",
       "      <td>0.483187</td>\n",
       "      <td>0.248655</td>\n",
       "      <td>0.085436</td>\n",
       "    </tr>\n",
       "    <tr>\n",
       "      <th>min</th>\n",
       "      <td>1.000000</td>\n",
       "      <td>1.000000</td>\n",
       "      <td>0.000000</td>\n",
       "      <td>3.000000</td>\n",
       "      <td>1.000000</td>\n",
       "      <td>1.000000</td>\n",
       "      <td>1.000000</td>\n",
       "      <td>1.000000</td>\n",
       "      <td>4.000000</td>\n",
       "      <td>4.000000</td>\n",
       "      <td>...</td>\n",
       "      <td>0.000000</td>\n",
       "      <td>0.000000</td>\n",
       "      <td>0.000000</td>\n",
       "      <td>0.000000</td>\n",
       "      <td>0.000000</td>\n",
       "      <td>0.000000</td>\n",
       "      <td>0.000000</td>\n",
       "      <td>0.000000</td>\n",
       "      <td>0.000000</td>\n",
       "      <td>0.000000</td>\n",
       "    </tr>\n",
       "    <tr>\n",
       "      <th>25%</th>\n",
       "      <td>2.000000</td>\n",
       "      <td>4.000000</td>\n",
       "      <td>4.000000</td>\n",
       "      <td>4.000000</td>\n",
       "      <td>1.000000</td>\n",
       "      <td>2.000000</td>\n",
       "      <td>5.000000</td>\n",
       "      <td>4.000000</td>\n",
       "      <td>4.000000</td>\n",
       "      <td>5.000000</td>\n",
       "      <td>...</td>\n",
       "      <td>0.000000</td>\n",
       "      <td>0.000000</td>\n",
       "      <td>0.000000</td>\n",
       "      <td>0.000000</td>\n",
       "      <td>0.000000</td>\n",
       "      <td>0.000000</td>\n",
       "      <td>0.000000</td>\n",
       "      <td>0.000000</td>\n",
       "      <td>0.000000</td>\n",
       "      <td>0.000000</td>\n",
       "    </tr>\n",
       "    <tr>\n",
       "      <th>50%</th>\n",
       "      <td>3.000000</td>\n",
       "      <td>5.000000</td>\n",
       "      <td>4.000000</td>\n",
       "      <td>4.000000</td>\n",
       "      <td>2.000000</td>\n",
       "      <td>3.000000</td>\n",
       "      <td>5.000000</td>\n",
       "      <td>5.000000</td>\n",
       "      <td>5.000000</td>\n",
       "      <td>5.000000</td>\n",
       "      <td>...</td>\n",
       "      <td>0.000000</td>\n",
       "      <td>0.000000</td>\n",
       "      <td>0.000000</td>\n",
       "      <td>0.000000</td>\n",
       "      <td>0.000000</td>\n",
       "      <td>0.000000</td>\n",
       "      <td>0.000000</td>\n",
       "      <td>0.000000</td>\n",
       "      <td>0.000000</td>\n",
       "      <td>0.000000</td>\n",
       "    </tr>\n",
       "    <tr>\n",
       "      <th>75%</th>\n",
       "      <td>4.000000</td>\n",
       "      <td>5.000000</td>\n",
       "      <td>5.000000</td>\n",
       "      <td>5.000000</td>\n",
       "      <td>2.000000</td>\n",
       "      <td>4.000000</td>\n",
       "      <td>5.000000</td>\n",
       "      <td>5.000000</td>\n",
       "      <td>5.000000</td>\n",
       "      <td>5.000000</td>\n",
       "      <td>...</td>\n",
       "      <td>0.000000</td>\n",
       "      <td>0.000000</td>\n",
       "      <td>0.000000</td>\n",
       "      <td>0.000000</td>\n",
       "      <td>0.000000</td>\n",
       "      <td>0.000000</td>\n",
       "      <td>0.000000</td>\n",
       "      <td>1.000000</td>\n",
       "      <td>0.000000</td>\n",
       "      <td>0.000000</td>\n",
       "    </tr>\n",
       "    <tr>\n",
       "      <th>max</th>\n",
       "      <td>12.000000</td>\n",
       "      <td>7.500000</td>\n",
       "      <td>7.500000</td>\n",
       "      <td>7.500000</td>\n",
       "      <td>8.000000</td>\n",
       "      <td>10.000000</td>\n",
       "      <td>10.000000</td>\n",
       "      <td>10.000000</td>\n",
       "      <td>10.000000</td>\n",
       "      <td>10.000000</td>\n",
       "      <td>...</td>\n",
       "      <td>1.000000</td>\n",
       "      <td>1.000000</td>\n",
       "      <td>1.000000</td>\n",
       "      <td>1.000000</td>\n",
       "      <td>1.000000</td>\n",
       "      <td>1.000000</td>\n",
       "      <td>1.000000</td>\n",
       "      <td>1.000000</td>\n",
       "      <td>1.000000</td>\n",
       "      <td>1.000000</td>\n",
       "    </tr>\n",
       "  </tbody>\n",
       "</table>\n",
       "<p>8 rows × 78 columns</p>\n",
       "</div>"
      ],
      "text/plain": [
       "               P1          P2          P3          P4          P5          P6  \\\n",
       "count  137.000000  137.000000  137.000000  137.000000  137.000000  137.000000   \n",
       "mean     4.014599    4.408759    4.317518    4.372263    2.007299    3.357664   \n",
       "std      2.910391    1.514900    1.032337    1.016462    1.209620    2.134235   \n",
       "min      1.000000    1.000000    0.000000    3.000000    1.000000    1.000000   \n",
       "25%      2.000000    4.000000    4.000000    4.000000    1.000000    2.000000   \n",
       "50%      3.000000    5.000000    4.000000    4.000000    2.000000    3.000000   \n",
       "75%      4.000000    5.000000    5.000000    5.000000    2.000000    4.000000   \n",
       "max     12.000000    7.500000    7.500000    7.500000    8.000000   10.000000   \n",
       "\n",
       "               P7          P8          P9         P10  ...    Osmaniye  \\\n",
       "count  137.000000  137.000000  137.000000  137.000000  ...  137.000000   \n",
       "mean     5.423358    5.153285    5.445255    5.489051  ...    0.007299   \n",
       "std      2.296809    1.858567    1.834793    1.847561  ...    0.085436   \n",
       "min      1.000000    1.000000    4.000000    4.000000  ...    0.000000   \n",
       "25%      5.000000    4.000000    4.000000    5.000000  ...    0.000000   \n",
       "50%      5.000000    5.000000    5.000000    5.000000  ...    0.000000   \n",
       "75%      5.000000    5.000000    5.000000    5.000000  ...    0.000000   \n",
       "max     10.000000   10.000000   10.000000   10.000000  ...    1.000000   \n",
       "\n",
       "          Sakarya      Samsun    Tekirdağ       Tokat     Trabzon        Uşak  \\\n",
       "count  137.000000  137.000000  137.000000  137.000000  137.000000  137.000000   \n",
       "mean     0.029197    0.036496    0.021898    0.007299    0.014599    0.007299   \n",
       "std      0.168976    0.188210    0.146887    0.085436    0.120379    0.085436   \n",
       "min      0.000000    0.000000    0.000000    0.000000    0.000000    0.000000   \n",
       "25%      0.000000    0.000000    0.000000    0.000000    0.000000    0.000000   \n",
       "50%      0.000000    0.000000    0.000000    0.000000    0.000000    0.000000   \n",
       "75%      0.000000    0.000000    0.000000    0.000000    0.000000    0.000000   \n",
       "max      1.000000    1.000000    1.000000    1.000000    1.000000    1.000000   \n",
       "\n",
       "         İstanbul       İzmir   Şanlıurfa  \n",
       "count  137.000000  137.000000  137.000000  \n",
       "mean     0.364964    0.065693    0.007299  \n",
       "std      0.483187    0.248655    0.085436  \n",
       "min      0.000000    0.000000    0.000000  \n",
       "25%      0.000000    0.000000    0.000000  \n",
       "50%      0.000000    0.000000    0.000000  \n",
       "75%      1.000000    0.000000    0.000000  \n",
       "max      1.000000    1.000000    1.000000  \n",
       "\n",
       "[8 rows x 78 columns]"
      ]
     },
     "execution_count": 20,
     "metadata": {},
     "output_type": "execute_result"
    }
   ],
   "source": [
    "df.describe()"
   ]
  },
  {
   "cell_type": "code",
   "execution_count": 21,
   "id": "a1c7232a-d13a-4d1b-8ed4-ff4d936b8fe2",
   "metadata": {},
   "outputs": [],
   "source": [
    "corr = df.corr()[['revenue']].sort_values('revenue' ,ascending =False)"
   ]
  },
  {
   "cell_type": "code",
   "execution_count": 22,
   "id": "2673f47f-8208-47ed-ba04-909ca1e43752",
   "metadata": {},
   "outputs": [
    {
     "data": {
      "image/png": "[encoded data removed]",
      "text/plain": [
       "<Figure size 2160x2160 with 2 Axes>"
      ]
     },
     "metadata": {
      "needs_background": "light"
     },
     "output_type": "display_data"
    }
   ],
   "source": [
    "plt.figure(figsize = (30, 30))\n",
    "sns.heatmap(corr, annot =True, cmap = 'winter', vmin=-1, vmax =1);\n",
    "plt.title('corr plot');"
   ]
  },
  {
   "cell_type": "markdown",
   "id": "c2082d7d-f6f5-47c2-a557-e62b9e15e940",
   "metadata": {},
   "source": [
    "Most of the variables do not have a big impact on revenue. I will start with all variables that have a correlation above 0.1 or below -0.1 with revenue. "
   ]
  },
  {
   "cell_type": "code",
   "execution_count": 23,
   "id": "f375c7c4-5148-4165-8cd7-6f0f526b46aa",
   "metadata": {},
   "outputs": [],
   "source": [
    "df2 = df[['Year', 'Other', 'Ankara', 'P29', 'P13', 'FC', 'P6', 'P28', 'P2',df.columns[-3], 'revenue']].copy() #because of special characters the instanbul column had to be grabbed a different way"
   ]
  },
  {
   "cell_type": "code",
   "execution_count": 24,
   "id": "90c027db-6358-4fff-9521-adef6febf50b",
   "metadata": {},
   "outputs": [
    {
     "data": {
      "text/html": [
       "<div>\n",
       "<style scoped>\n",
       "    .dataframe tbody tr th:only-of-type {\n",
       "        vertical-align: middle;\n",
       "    }\n",
       "\n",
       "    .dataframe tbody tr th {\n",
       "        vertical-align: top;\n",
       "    }\n",
       "\n",
       "    .dataframe thead th {\n",
       "        text-align: right;\n",
       "    }\n",
       "</style>\n",
       "<table border=\"1\" class=\"dataframe\">\n",
       "  <thead>\n",
       "    <tr style=\"text-align: right;\">\n",
       "      <th></th>\n",
       "      <th>Year</th>\n",
       "      <th>Other</th>\n",
       "      <th>Ankara</th>\n",
       "      <th>P29</th>\n",
       "      <th>P13</th>\n",
       "      <th>FC</th>\n",
       "      <th>P6</th>\n",
       "      <th>P28</th>\n",
       "      <th>P2</th>\n",
       "      <th>İstanbul</th>\n",
       "      <th>revenue</th>\n",
       "    </tr>\n",
       "  </thead>\n",
       "  <tbody>\n",
       "    <tr>\n",
       "      <th>0</th>\n",
       "      <td>1999</td>\n",
       "      <td>0</td>\n",
       "      <td>0</td>\n",
       "      <td>3.0</td>\n",
       "      <td>5.0</td>\n",
       "      <td>0</td>\n",
       "      <td>2</td>\n",
       "      <td>2.0</td>\n",
       "      <td>5.0</td>\n",
       "      <td>1</td>\n",
       "      <td>5653753.0</td>\n",
       "    </tr>\n",
       "    <tr>\n",
       "      <th>1</th>\n",
       "      <td>2008</td>\n",
       "      <td>0</td>\n",
       "      <td>1</td>\n",
       "      <td>3.0</td>\n",
       "      <td>5.0</td>\n",
       "      <td>1</td>\n",
       "      <td>2</td>\n",
       "      <td>3.0</td>\n",
       "      <td>5.0</td>\n",
       "      <td>0</td>\n",
       "      <td>6923131.0</td>\n",
       "    </tr>\n",
       "    <tr>\n",
       "      <th>2</th>\n",
       "      <td>2013</td>\n",
       "      <td>1</td>\n",
       "      <td>0</td>\n",
       "      <td>3.0</td>\n",
       "      <td>5.0</td>\n",
       "      <td>0</td>\n",
       "      <td>3</td>\n",
       "      <td>1.0</td>\n",
       "      <td>4.0</td>\n",
       "      <td>0</td>\n",
       "      <td>2055379.0</td>\n",
       "    </tr>\n",
       "    <tr>\n",
       "      <th>3</th>\n",
       "      <td>2012</td>\n",
       "      <td>1</td>\n",
       "      <td>0</td>\n",
       "      <td>7.5</td>\n",
       "      <td>7.5</td>\n",
       "      <td>0</td>\n",
       "      <td>4</td>\n",
       "      <td>2.5</td>\n",
       "      <td>4.5</td>\n",
       "      <td>0</td>\n",
       "      <td>2675511.0</td>\n",
       "    </tr>\n",
       "    <tr>\n",
       "      <th>4</th>\n",
       "      <td>2009</td>\n",
       "      <td>1</td>\n",
       "      <td>0</td>\n",
       "      <td>3.0</td>\n",
       "      <td>5.0</td>\n",
       "      <td>0</td>\n",
       "      <td>2</td>\n",
       "      <td>1.0</td>\n",
       "      <td>4.0</td>\n",
       "      <td>0</td>\n",
       "      <td>4316715.0</td>\n",
       "    </tr>\n",
       "  </tbody>\n",
       "</table>\n",
       "</div>"
      ],
      "text/plain": [
       "   Year  Other  Ankara  P29  P13  FC  P6  P28   P2  İstanbul    revenue\n",
       "0  1999      0       0  3.0  5.0   0   2  2.0  5.0         1  5653753.0\n",
       "1  2008      0       1  3.0  5.0   1   2  3.0  5.0         0  6923131.0\n",
       "2  2013      1       0  3.0  5.0   0   3  1.0  4.0         0  2055379.0\n",
       "3  2012      1       0  7.5  7.5   0   4  2.5  4.5         0  2675511.0\n",
       "4  2009      1       0  3.0  5.0   0   2  1.0  4.0         0  4316715.0"
      ]
     },
     "execution_count": 24,
     "metadata": {},
     "output_type": "execute_result"
    }
   ],
   "source": [
    "df2.head()"
   ]
  },
  {
   "cell_type": "markdown",
   "id": "71b20c14-a258-4f1a-be12-de9f8e750240",
   "metadata": {},
   "source": [
    "A 1 in other means not a big city. A 0 in both ankara and instanbul means a different city. "
   ]
  },
  {
   "cell_type": "code",
   "execution_count": 25,
   "id": "97f522d9-0390-4789-8be8-0248aef1c0a0",
   "metadata": {},
   "outputs": [],
   "source": [
    "corr2 =df2.corr()"
   ]
  },
  {
   "cell_type": "code",
   "execution_count": 26,
   "id": "4f6656bd-e4c6-4455-9dda-cd7d8b0dec46",
   "metadata": {},
   "outputs": [
    {
     "data": {
      "image/png": "[encoded data removed]",
      "text/plain": [
       "<Figure size 720x720 with 2 Axes>"
      ]
     },
     "metadata": {
      "needs_background": "light"
     },
     "output_type": "display_data"
    }
   ],
   "source": [
    "plt.figure(figsize = (10, 10))\n",
    "mask = np.zeros_like(corr2)\n",
    "mask[np.triu_indices_from(mask)] = True\n",
    "sns.heatmap(corr2, mask = mask, annot =True, cmap = 'winter', vmin=-1, vmax =1);\n",
    "plt.title('overall corr');"
   ]
  },
  {
   "cell_type": "markdown",
   "id": "4f109ad2-ea60-4f49-9b86-fc65d7eee4d1",
   "metadata": {},
   "source": [
    "There seems to be some multicollinearity. Some features should probably be removed. Other includes most locations that are not Instanbul and Ankara. Therefore it can be dropped. A zero in both the Ankara and instanbul variables means that the restaurant is somewhere else. Also the p variables are highly correlated with each other. They are demographic data but I don't know what each represents specifically. Due to the high correlation and the difficulty with interpretation these variables can be dropped."
   ]
  },
  {
   "cell_type": "code",
   "execution_count": 27,
   "id": "0fd6ed01-7392-4185-a9d6-de96671077a6",
   "metadata": {},
   "outputs": [],
   "source": [
    "df2 = df2.drop(columns = ['P2', 'P28', 'P6', 'P13', 'P29', 'Other'])"
   ]
  },
  {
   "cell_type": "markdown",
   "id": "663b87b5-d159-4997-8a64-73809a28d8bf",
   "metadata": {},
   "source": [
    "There are not that many features left but hopefully a better and more useful model will be gained."
   ]
  },
  {
   "cell_type": "code",
   "execution_count": 28,
   "id": "7b1b879c-ab6f-4518-934f-2da3bdd4e6f1",
   "metadata": {},
   "outputs": [
    {
     "data": {
      "image/png": "[encoded data removed]",
      "text/plain": [
       "<Figure size 432x288 with 1 Axes>"
      ]
     },
     "metadata": {
      "needs_background": "light"
     },
     "output_type": "display_data"
    }
   ],
   "source": [
    "plt.hist(df2['revenue'], bins=20);\n",
    "plt.title('Histogram of revenue'); \n",
    "plt.xlabel('revenue');"
   ]
  },
  {
   "cell_type": "markdown",
   "id": "8abf55e2-26bf-483d-b237-53b8514d1c5a",
   "metadata": {},
   "source": [
    "The revenue variable has already been transformed."
   ]
  },
  {
   "cell_type": "code",
   "execution_count": 29,
   "id": "ced48851-982d-4158-b2d6-a5548477b14e",
   "metadata": {},
   "outputs": [
    {
     "data": {
      "text/html": [
       "<div>\n",
       "<style scoped>\n",
       "    .dataframe tbody tr th:only-of-type {\n",
       "        vertical-align: middle;\n",
       "    }\n",
       "\n",
       "    .dataframe tbody tr th {\n",
       "        vertical-align: top;\n",
       "    }\n",
       "\n",
       "    .dataframe thead th {\n",
       "        text-align: right;\n",
       "    }\n",
       "</style>\n",
       "<table border=\"1\" class=\"dataframe\">\n",
       "  <thead>\n",
       "    <tr style=\"text-align: right;\">\n",
       "      <th></th>\n",
       "      <th>Year</th>\n",
       "      <th>Ankara</th>\n",
       "      <th>FC</th>\n",
       "      <th>İstanbul</th>\n",
       "      <th>revenue</th>\n",
       "    </tr>\n",
       "  </thead>\n",
       "  <tbody>\n",
       "    <tr>\n",
       "      <th>16</th>\n",
       "      <td>2000</td>\n",
       "      <td>0</td>\n",
       "      <td>1</td>\n",
       "      <td>1</td>\n",
       "      <td>19696939.0</td>\n",
       "    </tr>\n",
       "    <tr>\n",
       "      <th>75</th>\n",
       "      <td>2005</td>\n",
       "      <td>0</td>\n",
       "      <td>1</td>\n",
       "      <td>1</td>\n",
       "      <td>16549064.0</td>\n",
       "    </tr>\n",
       "    <tr>\n",
       "      <th>99</th>\n",
       "      <td>1999</td>\n",
       "      <td>0</td>\n",
       "      <td>0</td>\n",
       "      <td>1</td>\n",
       "      <td>13575224.0</td>\n",
       "    </tr>\n",
       "    <tr>\n",
       "      <th>100</th>\n",
       "      <td>2007</td>\n",
       "      <td>0</td>\n",
       "      <td>1</td>\n",
       "      <td>1</td>\n",
       "      <td>9652350.0</td>\n",
       "    </tr>\n",
       "    <tr>\n",
       "      <th>133</th>\n",
       "      <td>2006</td>\n",
       "      <td>0</td>\n",
       "      <td>1</td>\n",
       "      <td>0</td>\n",
       "      <td>9262754.0</td>\n",
       "    </tr>\n",
       "  </tbody>\n",
       "</table>\n",
       "</div>"
      ],
      "text/plain": [
       "     Year  Ankara  FC  İstanbul     revenue\n",
       "16   2000       0   1         1  19696939.0\n",
       "75   2005       0   1         1  16549064.0\n",
       "99   1999       0   0         1  13575224.0\n",
       "100  2007       0   1         1   9652350.0\n",
       "133  2006       0   1         0   9262754.0"
      ]
     },
     "execution_count": 29,
     "metadata": {},
     "output_type": "execute_result"
    }
   ],
   "source": [
    "df2.sort_values('revenue' ,ascending =False).head()"
   ]
  },
  {
   "cell_type": "markdown",
   "id": "a1f6bdcd-fd48-4996-ae6a-966d7f33421e",
   "metadata": {},
   "source": [
    "There appear to be 3 outliers in the data. They should not change the results too much so I will leave them in. "
   ]
  },
  {
   "cell_type": "code",
   "execution_count": 30,
   "id": "101ba6c0-ef90-40df-a74f-f13a62fef788",
   "metadata": {},
   "outputs": [
    {
     "data": {
      "image/png": "[encoded data removed]",
      "text/plain": [
       "<Figure size 720x720 with 1 Axes>"
      ]
     },
     "metadata": {
      "needs_background": "light"
     },
     "output_type": "display_data"
    }
   ],
   "source": [
    "plt.figure(figsize = (10, 10))\n",
    "sns.boxplot(x = 'Year', y ='revenue', data =df);\n",
    "plt.title('Year vs revenue');"
   ]
  },
  {
   "cell_type": "markdown",
   "id": "0dbcba7e-f5cb-4dc5-9cf5-b8cec9d9d074",
   "metadata": {},
   "source": [
    "For some reason the year 2000 has the highest revenue by far. This is definetly not a linear relationship which will mess up the model. Perhaps it should be a category. At first I thought there must be outliers but that is not it. The sales are just consistantly higher in the year 2000 then any other year."
   ]
  },
  {
   "cell_type": "code",
   "execution_count": 31,
   "id": "540d1121-ab3f-4b6b-9053-3d3deb3a8c20",
   "metadata": {},
   "outputs": [],
   "source": [
    "df2['Year'] = df['Year'].map(lambda x: 1 if x == 2000 else 0)"
   ]
  },
  {
   "cell_type": "code",
   "execution_count": 32,
   "id": "bf9ca59b-761e-42cd-a477-8641d0a14d3c",
   "metadata": {},
   "outputs": [
    {
     "data": {
      "image/png": "[encoded data removed]",
      "text/plain": [
       "<Figure size 720x720 with 1 Axes>"
      ]
     },
     "metadata": {
      "needs_background": "light"
     },
     "output_type": "display_data"
    }
   ],
   "source": [
    "plt.figure(figsize = (10, 10))\n",
    "sns.boxplot(x = 'Year', y ='revenue', data =df2);\n",
    "plt.title('Year vs revenue');"
   ]
  },
  {
   "cell_type": "markdown",
   "id": "e46fc175-ed7e-4c9a-8b19-dd67ff3f2ac3",
   "metadata": {},
   "source": [
    "Now there a real correlation to help in the modeling."
   ]
  },
  {
   "cell_type": "code",
   "execution_count": 33,
   "id": "9bcfe4bc-8c82-4233-876a-7d4cf8fcd709",
   "metadata": {},
   "outputs": [
    {
     "data": {
      "image/png": "[encoded data removed]",
      "text/plain": [
       "<Figure size 720x720 with 1 Axes>"
      ]
     },
     "metadata": {
      "needs_background": "light"
     },
     "output_type": "display_data"
    }
   ],
   "source": [
    "plt.figure(figsize = (10, 10))\n",
    "sns.boxplot(x = 'Ankara', y ='revenue', data =df);\n",
    "plt.title('Ankara vs revenue');"
   ]
  },
  {
   "cell_type": "code",
   "execution_count": 34,
   "id": "da00f95c-83dc-4e36-86be-665292406f56",
   "metadata": {},
   "outputs": [
    {
     "data": {
      "image/png": "[encoded data removed]",
      "text/plain": [
       "<Figure size 720x720 with 1 Axes>"
      ]
     },
     "metadata": {
      "needs_background": "light"
     },
     "output_type": "display_data"
    }
   ],
   "source": [
    "plt.figure(figsize = (10, 10))\n",
    "sns.boxplot(x = 'FC', y ='revenue', data =df);\n",
    "plt.title('Food Courts vs revenue');"
   ]
  },
  {
   "cell_type": "code",
   "execution_count": 35,
   "id": "5ec97d12-edcd-43aa-8f9d-e224caeb3b39",
   "metadata": {},
   "outputs": [],
   "source": [
    "X = df2.drop(columns=['revenue'])\n",
    "y = df2['revenue']"
   ]
  },
  {
   "cell_type": "code",
   "execution_count": 36,
   "id": "b7e32dd4-034a-4bee-8786-011b945e73a2",
   "metadata": {},
   "outputs": [],
   "source": [
    "X_train, X_test, y_train, y_test = train_test_split(X, y, random_state = 5)"
   ]
  },
  {
   "cell_type": "code",
   "execution_count": 37,
   "id": "6738606b-d264-4704-8f1f-1bcb2727e24b",
   "metadata": {},
   "outputs": [],
   "source": [
    "stan = StandardScaler()\n",
    "X_train_sc = stan.fit_transform(X_train)\n",
    "X_test_sc = stan.transform(X_test)"
   ]
  },
  {
   "cell_type": "code",
   "execution_count": 38,
   "id": "1ab1f143-0440-4cca-ad38-efdc4d1adf7e",
   "metadata": {},
   "outputs": [
    {
     "data": {
      "text/plain": [
       "LinearRegression()"
      ]
     },
     "execution_count": 38,
     "metadata": {},
     "output_type": "execute_result"
    }
   ],
   "source": [
    "lr =LinearRegression()\n",
    "lr.fit(X_train_sc, y_train)"
   ]
  },
  {
   "cell_type": "code",
   "execution_count": 39,
   "id": "17e462ba-18e2-446a-a98c-cc8e8a563760",
   "metadata": {},
   "outputs": [
    {
     "data": {
      "text/plain": [
       "0.2801880971592361"
      ]
     },
     "execution_count": 39,
     "metadata": {},
     "output_type": "execute_result"
    }
   ],
   "source": [
    "lr.score(X_train_sc, y_train)"
   ]
  },
  {
   "cell_type": "code",
   "execution_count": 40,
   "id": "05f0641e-d4cb-4878-80b9-64e019e9a6ca",
   "metadata": {},
   "outputs": [
    {
     "data": {
      "text/plain": [
       "0.10504398475321564"
      ]
     },
     "execution_count": 40,
     "metadata": {},
     "output_type": "execute_result"
    }
   ],
   "source": [
    "lr.score(X_test_sc, y_test)"
   ]
  },
  {
   "cell_type": "markdown",
   "id": "1b41790e-87d2-4204-b5ed-14fe147c7b22",
   "metadata": {},
   "source": [
    "That was not a very good model. Next I will try a random forests regressor."
   ]
  },
  {
   "cell_type": "code",
   "execution_count": 41,
   "id": "3b273479-f8e4-49c3-acc1-5d37f6090c5c",
   "metadata": {},
   "outputs": [
    {
     "data": {
      "text/plain": [
       "RandomForestRegressor()"
      ]
     },
     "execution_count": 41,
     "metadata": {},
     "output_type": "execute_result"
    }
   ],
   "source": [
    "rf = RandomForestRegressor()\n",
    "rf.fit(X_train_sc, y_train)"
   ]
  },
  {
   "cell_type": "code",
   "execution_count": 42,
   "id": "62d1ded6-5ae4-41c5-b87a-029afc6fd99a",
   "metadata": {},
   "outputs": [
    {
     "data": {
      "text/plain": [
       "0.28257880676840363"
      ]
     },
     "execution_count": 42,
     "metadata": {},
     "output_type": "execute_result"
    }
   ],
   "source": [
    "rf.score(X_train_sc, y_train)"
   ]
  },
  {
   "cell_type": "code",
   "execution_count": 43,
   "id": "bfa32e86-48f1-429a-98da-deafac7cef17",
   "metadata": {},
   "outputs": [
    {
     "data": {
      "text/plain": [
       "0.14882369389982275"
      ]
     },
     "execution_count": 43,
     "metadata": {},
     "output_type": "execute_result"
    }
   ],
   "source": [
    "rf.score(X_test_sc, y_test)"
   ]
  },
  {
   "cell_type": "markdown",
   "id": "3f90538f-ae6e-4d1f-a4f5-ae2e2ac468e0",
   "metadata": {},
   "source": [
    "This model has massive overfitting and does no better on the testing data then the linear regression. "
   ]
  },
  {
   "cell_type": "code",
   "execution_count": 44,
   "id": "8262e223-8ef2-4f22-b437-2167af27e43f",
   "metadata": {},
   "outputs": [
    {
     "data": {
      "text/plain": [
       "SVR()"
      ]
     },
     "execution_count": 44,
     "metadata": {},
     "output_type": "execute_result"
    }
   ],
   "source": [
    "svr = SVR()\n",
    "svr.fit(X_train_sc, y_train)"
   ]
  },
  {
   "cell_type": "code",
   "execution_count": 45,
   "id": "f71158a2-77a2-4a08-abbb-79bb2a49ff4e",
   "metadata": {},
   "outputs": [
    {
     "data": {
      "text/plain": [
       "-0.05978488042536978"
      ]
     },
     "execution_count": 45,
     "metadata": {},
     "output_type": "execute_result"
    }
   ],
   "source": [
    "svr.score(X_train_sc, y_train)"
   ]
  },
  {
   "cell_type": "code",
   "execution_count": 46,
   "id": "85d38133-00ea-430f-8e63-434ae555a921",
   "metadata": {},
   "outputs": [
    {
     "data": {
      "text/plain": [
       "-0.0007613913072765932"
      ]
     },
     "execution_count": 46,
     "metadata": {},
     "output_type": "execute_result"
    }
   ],
   "source": [
    "svr.score(X_test_sc, y_test)"
   ]
  },
  {
   "cell_type": "markdown",
   "id": "bb01099c-1f27-41ba-a4d9-7473d4a9177b",
   "metadata": {},
   "source": [
    "All the models are doing poorly. The SVR is worse than the baseline. "
   ]
  },
  {
   "cell_type": "code",
   "execution_count": 47,
   "id": "5aa16ab7-34c6-428d-b4b6-48447dbc6e69",
   "metadata": {},
   "outputs": [
    {
     "data": {
      "text/plain": [
       "KNeighborsRegressor()"
      ]
     },
     "execution_count": 47,
     "metadata": {},
     "output_type": "execute_result"
    }
   ],
   "source": [
    "knn = KNeighborsRegressor()\n",
    "knn.fit(X_train_sc, y_train)"
   ]
  },
  {
   "cell_type": "code",
   "execution_count": 48,
   "id": "dcf8edf5-7845-4cfb-95f2-1e36f63699a2",
   "metadata": {},
   "outputs": [
    {
     "data": {
      "text/plain": [
       "0.09437373469596866"
      ]
     },
     "execution_count": 48,
     "metadata": {},
     "output_type": "execute_result"
    }
   ],
   "source": [
    "knn.score(X_train_sc, y_train)"
   ]
  },
  {
   "cell_type": "code",
   "execution_count": 49,
   "id": "17e71589-63ac-4462-a88b-a5d3901dd78a",
   "metadata": {},
   "outputs": [
    {
     "data": {
      "text/plain": [
       "-0.3172922078530567"
      ]
     },
     "execution_count": 49,
     "metadata": {},
     "output_type": "execute_result"
    }
   ],
   "source": [
    "knn.score(X_test_sc, y_test)"
   ]
  },
  {
   "cell_type": "markdown",
   "id": "2a9bbe93-747f-4e25-8a36-cfd590de08ec",
   "metadata": {},
   "source": [
    "The random forests regression model is the best model. However the linear regression model has the most interpretablity."
   ]
  },
  {
   "cell_type": "code",
   "execution_count": 50,
   "id": "573a3955-257d-463f-af2f-e89784b45fd2",
   "metadata": {},
   "outputs": [
    {
     "data": {
      "text/plain": [
       "[('Year', 1116715.4826104522),\n",
       " ('Ankara', -250953.4823064573),\n",
       " ('FC', 285948.343453493),\n",
       " ('İstanbul', 549474.7280281112)]"
      ]
     },
     "execution_count": 50,
     "metadata": {},
     "output_type": "execute_result"
    }
   ],
   "source": [
    "list(zip(X.columns, lr.coef_))"
   ]
  },
  {
   "cell_type": "markdown",
   "id": "d1d2ba53-94bb-4cd1-9884-5e5d016cecc2",
   "metadata": {},
   "source": [
    "Because revenue and the x variables are transformed I have to be careful interpreting the data. "
   ]
  },
  {
   "cell_type": "markdown",
   "id": "3f9036b5-ad47-49ec-87d1-79f32b915f89",
   "metadata": {},
   "source": [
    "However food courts increases revenue as do restuarants in instanbul. In addition there is a big advantage to openning the restaurant in the year 2000."
   ]
  },
  {
   "cell_type": "markdown",
   "id": "6b54b9e8-a774-4b5d-b235-514ccfe324bb",
   "metadata": {},
   "source": [
    "# Conclusion "
   ]
  },
  {
   "cell_type": "markdown",
   "id": "efdca822-a45f-4b60-a966-80a63f4a9464",
   "metadata": {},
   "source": [
    "While we did better then the baseline it is hard to say that we can predict restaurant revenue. The random forests model is the best model. However it has a very poor r squared score and is overfit. "
   ]
  },
  {
   "cell_type": "markdown",
   "id": "1d76dfd3-cc41-410d-8f07-24bd488328b4",
   "metadata": {},
   "source": [
    "# Further Work"
   ]
  },
  {
   "cell_type": "markdown",
   "id": "04b7fa67-8f06-4a9d-842d-d9559e15893b",
   "metadata": {},
   "source": [
    "There are many things that could be done with more time to try and improve the models. I could try a neural network. I could use a gridsearch to find the best hyperparameters for the variables I used. I am not sure any of these things would help too much. From the correlation matrix it is apparent that none of the features are highly correlated with the target variable. However, while the model still probably would not be great, it would hopefully be better than it is now."
   ]
  },
  {
   "cell_type": "code",
   "execution_count": null,
   "id": "7318b816-9922-4167-9832-6f9f9487be46",
   "metadata": {},
   "outputs": [],
   "source": []
  }
 ],
 "metadata": {
  "kernelspec": {
   "display_name": "Python [conda env:GA]",
   "language": "python",
   "name": "conda-env-GA-py"
  },
  "language_info": {
   "codemirror_mode": {
    "name": "ipython",
    "version": 3
   },
   "file_extension": ".py",
   "mimetype": "text/x-python",
   "name": "python",
   "nbconvert_exporter": "python",
   "pygments_lexer": "ipython3",
   "version": "3.9.11"
  }
 },
 "nbformat": 4,
 "nbformat_minor": 5
}
