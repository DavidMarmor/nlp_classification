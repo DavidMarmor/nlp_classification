{
 "cells": [
  {
   "cell_type": "markdown",
   "metadata": {},
   "source": [
    "<img src=\"http://imgur.com/1ZcRyrc.png\" style=\"float: left; margin: 20px; height: 55px\" />\n",
    "\n",
    "# Python Ladder Challenge - Notebook 3\n",
    "\n",
    "_Author:_ Tim Book"
   ]
  },
  {
   "cell_type": "markdown",
   "metadata": {},
   "source": [
    "# Climb the Ladder!\n",
    "Our class moves quickly! Sometimes, it feels like we make leaps in logic that are a bit too big. Learn Python _slowly_, by doing many, many examples. Problems in this notebook start out easy and progressively get harder, so that the next rung of the Python ladder is always within reach."
   ]
  },
  {
   "cell_type": "markdown",
   "metadata": {},
   "source": [
    "# Section VII: Functions\n",
    "In this section, every question gives example(s). You can (but don't need to) name your function accordingly. You _should_ test out the example to make sure your function works properly. If the example doesn't work, your answer is likely incorrect."
   ]
  },
  {
   "cell_type": "markdown",
   "metadata": {},
   "source": [
    "72) Write a function to compute the area of a triangle. You only need the base and height of a triangle to compute its area.\n",
    "\n",
    "* _Example:_ `area_triangle(5, 4) == 10.0`"
   ]
  },
  {
   "cell_type": "code",
   "execution_count": 1,
   "metadata": {},
   "outputs": [],
   "source": [
    "def area_triangles(base, height): \n",
    "    area = 0.5 * base * height \n",
    "    return area"
   ]
  },
  {
   "cell_type": "code",
   "execution_count": 2,
   "metadata": {},
   "outputs": [
    {
     "data": {
      "text/plain": [
       "10.0"
      ]
     },
     "execution_count": 2,
     "metadata": {},
     "output_type": "execute_result"
    }
   ],
   "source": [
    "area_triangles(5,4)"
   ]
  },
  {
   "cell_type": "markdown",
   "metadata": {},
   "source": [
    "73) Import `pi` from `math` and write a function to compute the area of a circle. You only need the radius of a circle to compute its area.\n",
    "\n",
    "* _Example:_ `area_circle(10) == 314.159...`"
   ]
  },
  {
   "cell_type": "code",
   "execution_count": 3,
   "metadata": {},
   "outputs": [],
   "source": [
    "from math import pi \n",
    "def area_circle(radius): \n",
    "    area = pi * radius **2 \n",
    "    return(area)"
   ]
  },
  {
   "cell_type": "code",
   "execution_count": 5,
   "metadata": {},
   "outputs": [
    {
     "data": {
      "text/plain": [
       "314.1592653589793"
      ]
     },
     "execution_count": 5,
     "metadata": {},
     "output_type": "execute_result"
    }
   ],
   "source": [
    "area_circle(10)"
   ]
  },
  {
   "cell_type": "markdown",
   "metadata": {},
   "source": [
    "74) Write a function that takes in a number `max_num` and returns the sum of the numbers 1 through `max_num` (inclusive).\n",
    "* _Example:_ `sum_n(5) == 1 + 2 + 3 + 4 + 5 == 15`"
   ]
  },
  {
   "cell_type": "code",
   "execution_count": 12,
   "metadata": {},
   "outputs": [],
   "source": [
    "def add(num): \n",
    "    total = sum(range(1, num+1))\n",
    "    return total"
   ]
  },
  {
   "cell_type": "code",
   "execution_count": 13,
   "metadata": {},
   "outputs": [
    {
     "data": {
      "text/plain": [
       "15"
      ]
     },
     "execution_count": 13,
     "metadata": {},
     "output_type": "execute_result"
    }
   ],
   "source": [
    "add(5)"
   ]
  },
  {
   "cell_type": "markdown",
   "metadata": {},
   "source": [
    "75) Write a function that takes in a number `max_num` and returns the sum of the square of the numbers 1 through `max_num` (inclusive).\n",
    "* `sum_squares(5) == 1 + 4 + 9 + 16 + 25 == 55`"
   ]
  },
  {
   "cell_type": "code",
   "execution_count": 11,
   "metadata": {},
   "outputs": [],
   "source": [
    "def add_square(max_num): \n",
    "    s_total = 0\n",
    "    for i in range (1, max_num +1):\n",
    "        n = i**2 \n",
    "        s_total = s_total +n\n",
    "    return s_total\n",
    "    "
   ]
  },
  {
   "cell_type": "code",
   "execution_count": 12,
   "metadata": {},
   "outputs": [
    {
     "data": {
      "text/plain": [
       "55"
      ]
     },
     "execution_count": 12,
     "metadata": {},
     "output_type": "execute_result"
    }
   ],
   "source": [
    "add_square(5)"
   ]
  },
  {
   "cell_type": "markdown",
   "metadata": {},
   "source": [
    "76) Write a function that takes a number (an amount in euros) and convert it to U.S. dollars. There are 1.1 U.S. dollars per euro.\n",
    "* `to_dollar(10) == 11.0`"
   ]
  },
  {
   "cell_type": "code",
   "execution_count": 15,
   "metadata": {},
   "outputs": [],
   "source": [
    "def conversion(euros):\n",
    "    dollars = 1.1 * euros\n",
    "    return dollars "
   ]
  },
  {
   "cell_type": "code",
   "execution_count": 16,
   "metadata": {},
   "outputs": [
    {
     "data": {
      "text/plain": [
       "11.0"
      ]
     },
     "execution_count": 16,
     "metadata": {},
     "output_type": "execute_result"
    }
   ],
   "source": [
    "conversion(10)"
   ]
  },
  {
   "cell_type": "markdown",
   "metadata": {},
   "source": [
    "76) Write a function that takes a list of numbers (amounts in euros), and returns them converted to dollars. Use your answer to the previous question in your answer to this question.\n",
    "* _Example:_ `to_dollar_list([1, 10, 100]) == [1.1, 11.0, 110.0]`\n",
    "* _Note:_ You may get some decimal weirdness here."
   ]
  },
  {
   "cell_type": "code",
   "execution_count": 21,
   "metadata": {},
   "outputs": [],
   "source": [
    "def conversion_list(euros):\n",
    "    dollars = [1.1 * i for i in euros]\n",
    "    return dollars "
   ]
  },
  {
   "cell_type": "code",
   "execution_count": 22,
   "metadata": {},
   "outputs": [
    {
     "data": {
      "text/plain": [
       "[1.1, 11.0, 110.00000000000001]"
      ]
     },
     "execution_count": 22,
     "metadata": {},
     "output_type": "execute_result"
    }
   ],
   "source": [
    "conversion_list([1,10,100])"
   ]
  },
  {
   "cell_type": "markdown",
   "metadata": {},
   "source": [
    "77) Write a function that takes a number (a person's height) and returns \"Tall enough\" if they are at least 5 feet (60 inches) or \"Too short\" if they are below 5 feet.\n",
    "* _Example:_ `is_tall(72) == 'Tall enough'`\n",
    "* _Example:_ `is_tall(52) == 'Too short'`"
   ]
  },
  {
   "cell_type": "code",
   "execution_count": 25,
   "metadata": {},
   "outputs": [],
   "source": [
    "def is_tall(num): \n",
    "    if num >= 60:\n",
    "        return \"Tall enough\"\n",
    "    else: \n",
    "        return \"Too short\""
   ]
  },
  {
   "cell_type": "code",
   "execution_count": 26,
   "metadata": {},
   "outputs": [
    {
     "data": {
      "text/plain": [
       "'Tall enough'"
      ]
     },
     "execution_count": 26,
     "metadata": {},
     "output_type": "execute_result"
    }
   ],
   "source": [
    "is_tall(72)"
   ]
  },
  {
   "cell_type": "markdown",
   "metadata": {},
   "source": [
    "78) Write a function that takes a list of numbers (peoples' heights) and returns a list of strings \"Tall enough\" or \"Too short\" as in the previous problem. Use your answer to the previous problem to help answer this problem.\n",
    "* _Example:_ `is_tall_list([58, 70, 60]) == ['Too short', 'Tall enough', 'Tall enough']`"
   ]
  },
  {
   "cell_type": "code",
   "execution_count": 27,
   "metadata": {},
   "outputs": [],
   "source": [
    "def is_tall(num): \n",
    "    tall_list = ['Tall enough' if i >=60 else \"Too short\" for i in num]\n",
    "    return tall_list"
   ]
  },
  {
   "cell_type": "code",
   "execution_count": 28,
   "metadata": {},
   "outputs": [
    {
     "data": {
      "text/plain": [
       "['Too short', 'Tall enough', 'Tall enough']"
      ]
     },
     "execution_count": 28,
     "metadata": {},
     "output_type": "execute_result"
    }
   ],
   "source": [
    "is_tall([58,70,60])"
   ]
  },
  {
   "cell_type": "markdown",
   "metadata": {},
   "source": [
    "79) Write a function that takes in a numeric grade (0 to 100) and returns the letter grade (no pluses or minuses). In a traditional rubric, that would be as follows:\n",
    "\n",
    "* 90 or above = A\n",
    "* 80 - 89 = B\n",
    "* 70 - 79 = C\n",
    "* 60 - 69 = D\n",
    "* 59 or below = F\n",
    "    \n",
    "    \n",
    "* _Example:_ `letter_grade(85) == 'B'`"
   ]
  },
  {
   "cell_type": "code",
   "execution_count": 29,
   "metadata": {},
   "outputs": [],
   "source": [
    "def grade(score): \n",
    "    if score >= 90:\n",
    "        return 'A'\n",
    "    elif score >= 80:\n",
    "        return 'B'\n",
    "    elif score >= 70:\n",
    "        return 'C'\n",
    "    elif score >= 60:\n",
    "        return 'D'\n",
    "    else: \n",
    "        return 'F'"
   ]
  },
  {
   "cell_type": "code",
   "execution_count": 30,
   "metadata": {},
   "outputs": [
    {
     "data": {
      "text/plain": [
       "'B'"
      ]
     },
     "execution_count": 30,
     "metadata": {},
     "output_type": "execute_result"
    }
   ],
   "source": [
    "grade(85)"
   ]
  },
  {
   "cell_type": "markdown",
   "metadata": {},
   "source": [
    "80) Write _another_ function that takes a list of numeric grades and returns their letter grades. Use the function written above in your answer.\n",
    "\n",
    "* _Example:_ `letter_grades([85, 62, 90]) == ['B', 'D', 'A']`"
   ]
  },
  {
   "cell_type": "code",
   "execution_count": 37,
   "metadata": {},
   "outputs": [],
   "source": [
    "def grade_list(l_score):\n",
    "    g_list=['A' if i >=90 else 'B' if i >=80 else 'C' if i >= 70 else 'D' if i >=60 else 'F' for i in l_score]\n",
    "    return g_list"
   ]
  },
  {
   "cell_type": "code",
   "execution_count": 38,
   "metadata": {},
   "outputs": [
    {
     "data": {
      "text/plain": [
       "['B', 'D', 'A']"
      ]
     },
     "execution_count": 38,
     "metadata": {},
     "output_type": "execute_result"
    }
   ],
   "source": [
    "grade_list([85,62,90])"
   ]
  },
  {
   "cell_type": "markdown",
   "metadata": {},
   "source": [
    "81) Write a function that takes in a string and returns the number of vowels in that string. (No, y is not a vowel).\n",
    "* _Example:_ `vowel_count('General Assembly') == 5`"
   ]
  },
  {
   "cell_type": "code",
   "execution_count": 40,
   "metadata": {},
   "outputs": [],
   "source": [
    "def vowel_count(word): \n",
    "    v_count = 0 \n",
    "    for letter in word: \n",
    "        if letter == 'a' or letter == 'e' or letter == 'i' or letter == 'o' or letter == 'u':\n",
    "            v_count+= 1\n",
    "    return v_count"
   ]
  },
  {
   "cell_type": "code",
   "execution_count": 42,
   "metadata": {},
   "outputs": [
    {
     "data": {
      "text/plain": [
       "5"
      ]
     },
     "execution_count": 42,
     "metadata": {},
     "output_type": "execute_result"
    }
   ],
   "source": [
    "vowel_count(\"General assembly\")"
   ]
  },
  {
   "cell_type": "markdown",
   "metadata": {},
   "source": [
    "82) Write a function that takes in a string and returns that string with its consonants capitalized and vowels lowercased.\n",
    "\n",
    "* _Example:_ `toggle_case('General Assembly') == 'GeNeRaL aSSeMBLY'`"
   ]
  },
  {
   "cell_type": "code",
   "execution_count": 45,
   "metadata": {},
   "outputs": [],
   "source": [
    "def toggle_case(word): \n",
    "    new_word = word.swapcase()\n",
    "    return new_word"
   ]
  },
  {
   "cell_type": "code",
   "execution_count": 46,
   "metadata": {},
   "outputs": [
    {
     "data": {
      "text/plain": [
       "'gENERAL aSSEMBLY'"
      ]
     },
     "execution_count": 46,
     "metadata": {},
     "output_type": "execute_result"
    }
   ],
   "source": [
    "toggle_case('General Assembly')"
   ]
  },
  {
   "cell_type": "markdown",
   "metadata": {},
   "source": [
    "83) Write a function that takes in a string and returns that string with its vowels removed.\n",
    "* _Example:_ `disemvowel('Python is my favorite language') == 'Pythn s my fvrt lngg'`"
   ]
  },
  {
   "cell_type": "code",
   "execution_count": 57,
   "metadata": {},
   "outputs": [],
   "source": [
    "def remove_vowels(phrase): \n",
    "    new_phrase = phrase.replace('a', '').replace('e','').replace('i','').replace('o','').replace('u','')\n",
    "    return new_phrase"
   ]
  },
  {
   "cell_type": "code",
   "execution_count": 58,
   "metadata": {},
   "outputs": [
    {
     "data": {
      "text/plain": [
       "'Pythn s my fvrt lngg'"
      ]
     },
     "execution_count": 58,
     "metadata": {},
     "output_type": "execute_result"
    }
   ],
   "source": [
    "remove_vowels('Python is my favorite language')"
   ]
  },
  {
   "cell_type": "markdown",
   "metadata": {},
   "source": [
    "84) Write a function that takes in a string and returns that string with its vowels removed for each word _except for one-letter words_, in which case leave the vowel intact. You should use your answer in the previous problem to answer this.\n",
    "* _Example:_ `smart_disemvowel('I love Python programming') == 'I lv Pythn prgrmmng'`"
   ]
  },
  {
   "cell_type": "code",
   "execution_count": 86,
   "metadata": {},
   "outputs": [],
   "source": [
    "def remove_vowels(phrase): \n",
    "    phrase = phrase.split(\" \")\n",
    "    new_phrase = []\n",
    "    for i in phrase:\n",
    "        if len(i) > 1:\n",
    "            i = i.replace('a', '').replace('e','').replace('i','').replace('o','').replace('u','')\n",
    "        else:\n",
    "            i = i\n",
    "        new_phrase.append(i)\n",
    "    new_phrase =' '.join(new_phrase)\n",
    "    return new_phrase"
   ]
  },
  {
   "cell_type": "code",
   "execution_count": 87,
   "metadata": {},
   "outputs": [
    {
     "data": {
      "text/plain": [
       "'I lv Pythn prgrmmng'"
      ]
     },
     "execution_count": 87,
     "metadata": {},
     "output_type": "execute_result"
    }
   ],
   "source": [
    "remove_vowels('I love Python programming')"
   ]
  },
  {
   "cell_type": "markdown",
   "metadata": {},
   "source": [
    "85) Write a function that takes in a string (likely multiple words long) and returns that string with the order of the words reversed.\n",
    "* _Example:_ `word_reverser('Data science is cool') == 'cool is science Data'`"
   ]
  },
  {
   "cell_type": "code",
   "execution_count": 94,
   "metadata": {},
   "outputs": [],
   "source": [
    "def word_reverse(sentence):\n",
    "    seperate_sentence = sentence.split(' ')\n",
    "    seperate_sentence.reverse()\n",
    "    new_sentence = ' '.join(seperate_sentence)\n",
    "    return new_sentence"
   ]
  },
  {
   "cell_type": "code",
   "execution_count": 95,
   "metadata": {},
   "outputs": [
    {
     "data": {
      "text/plain": [
       "'cool is science Data'"
      ]
     },
     "execution_count": 95,
     "metadata": {},
     "output_type": "execute_result"
    }
   ],
   "source": [
    "word_reverse('Data science is cool')"
   ]
  },
  {
   "cell_type": "markdown",
   "metadata": {},
   "source": [
    "86) Write a function that takes in a string (likely multiple words long) and returns that string with each word reversed, but with the words in the same order.\n",
    "* _Example:_ `letter_reverser('Data science is cool') == 'ataD ecneics si looc'`"
   ]
  },
  {
   "cell_type": "code",
   "execution_count": 100,
   "metadata": {},
   "outputs": [],
   "source": [
    "def letter_reverser(phrase): \n",
    "    phrase = phrase.split(\" \")\n",
    "    new_phrase = []\n",
    "    for i in phrase:\n",
    "        new_i=i[::-1]\n",
    "        new_phrase.append(new_i)\n",
    "    new_phrase =' '.join(new_phrase)\n",
    "    return new_phrase"
   ]
  },
  {
   "cell_type": "code",
   "execution_count": 101,
   "metadata": {},
   "outputs": [
    {
     "data": {
      "text/plain": [
       "'ataD ecneics si looc'"
      ]
     },
     "execution_count": 101,
     "metadata": {},
     "output_type": "execute_result"
    }
   ],
   "source": [
    "letter_reverser('Data science is cool')"
   ]
  },
  {
   "cell_type": "markdown",
   "metadata": {},
   "source": [
    "87) Write a function that converts a string to \"leet speak\". Leet speak is a made-up internet language which you replace characters with symbols that look like those characters. For example:\n",
    "\n",
    "* _Example:_ `to_leet_speak('i am elite') == '! @M 31!73'`\n",
    "* _Hint:_ Recall what `.get()` does when called on a dictionary? Will this help you with spaces or other non-letter characters?\n",
    "\n",
    "_Note:_ This problem is borrowed from [this](https://www.codewars.com/kata/toleetspeak) wonderful Codewars challenge!\n",
    "\n",
    "Below is the English-to-leet dictionary:"
   ]
  },
  {
   "cell_type": "code",
   "execution_count": 181,
   "metadata": {},
   "outputs": [],
   "source": [
    "LEET_DICT = {'A' : '@', 'B' : '8', 'C' : '(', 'D' : 'D', 'E' : '3',\n",
    "             'F' : 'F', 'G' : '6', 'H' : '#', 'I' : '!', 'J' : 'J',\n",
    "             'K' : 'K', 'L' : '1', 'M' : 'M', 'N' : 'N', 'O' : '0',\n",
    "             'P' : 'P', 'Q' : 'Q', 'R' : 'R', 'S' : '$', 'T' : '7',\n",
    "             'U' : 'U', 'V' : 'V', 'W' : 'W', 'X' : 'X', 'Y' : 'Y',\n",
    "             'Z' : '2'}"
   ]
  },
  {
   "cell_type": "code",
   "execution_count": 188,
   "metadata": {},
   "outputs": [],
   "source": [
    "def to_leet_speak(words): \n",
    "    new_phrase = []\n",
    "    for i in words: \n",
    "        new_i = words.get(LEET_DICT, i)\n",
    "        new_phrase.append(new_i)\n",
    "    return new_phrase\n",
    "        "
   ]
  },
  {
   "cell_type": "code",
   "execution_count": 189,
   "metadata": {},
   "outputs": [
    {
     "ename": "AttributeError",
     "evalue": "'str' object has no attribute 'get'",
     "output_type": "error",
     "traceback": [
      "\u001b[1;31m---------------------------------------------------------------------------\u001b[0m",
      "\u001b[1;31mAttributeError\u001b[0m                            Traceback (most recent call last)",
      "\u001b[1;32m<ipython-input-189-e3fd82066bd0>\u001b[0m in \u001b[0;36m<module>\u001b[1;34m\u001b[0m\n\u001b[1;32m----> 1\u001b[1;33m \u001b[0mto_leet_speak\u001b[0m\u001b[1;33m(\u001b[0m\u001b[1;34m'i am elite'\u001b[0m\u001b[1;33m)\u001b[0m\u001b[1;33m\u001b[0m\u001b[1;33m\u001b[0m\u001b[0m\n\u001b[0m",
      "\u001b[1;32m<ipython-input-188-ecc62949ddcd>\u001b[0m in \u001b[0;36mto_leet_speak\u001b[1;34m(words)\u001b[0m\n\u001b[0;32m      2\u001b[0m     \u001b[0mnew_phrase\u001b[0m \u001b[1;33m=\u001b[0m \u001b[1;33m[\u001b[0m\u001b[1;33m]\u001b[0m\u001b[1;33m\u001b[0m\u001b[1;33m\u001b[0m\u001b[0m\n\u001b[0;32m      3\u001b[0m     \u001b[1;32mfor\u001b[0m \u001b[0mi\u001b[0m \u001b[1;32min\u001b[0m \u001b[0mwords\u001b[0m\u001b[1;33m:\u001b[0m\u001b[1;33m\u001b[0m\u001b[1;33m\u001b[0m\u001b[0m\n\u001b[1;32m----> 4\u001b[1;33m         \u001b[0mnew_i\u001b[0m \u001b[1;33m=\u001b[0m \u001b[0mwords\u001b[0m\u001b[1;33m.\u001b[0m\u001b[0mget\u001b[0m\u001b[1;33m(\u001b[0m\u001b[0mLEET_DICT\u001b[0m\u001b[1;33m,\u001b[0m \u001b[0mi\u001b[0m\u001b[1;33m)\u001b[0m\u001b[1;33m\u001b[0m\u001b[1;33m\u001b[0m\u001b[0m\n\u001b[0m\u001b[0;32m      5\u001b[0m         \u001b[0mnew_phrase\u001b[0m\u001b[1;33m.\u001b[0m\u001b[0mappend\u001b[0m\u001b[1;33m(\u001b[0m\u001b[0mnew_i\u001b[0m\u001b[1;33m)\u001b[0m\u001b[1;33m\u001b[0m\u001b[1;33m\u001b[0m\u001b[0m\n\u001b[0;32m      6\u001b[0m     \u001b[1;32mreturn\u001b[0m \u001b[0mnew_phrase\u001b[0m\u001b[1;33m\u001b[0m\u001b[1;33m\u001b[0m\u001b[0m\n",
      "\u001b[1;31mAttributeError\u001b[0m: 'str' object has no attribute 'get'"
     ]
    }
   ],
   "source": [
    "to_leet_speak('i am elite')\n"
   ]
  },
  {
   "cell_type": "markdown",
   "metadata": {},
   "source": [
    "87) Write an `is_prime` function that takes in a number and returns a boolean of whether or not that number was prime. (_Hint:_ You already did this in a previous section.)\n",
    "\n",
    "* _Example:_ `is_prime(5) == True`\n",
    "* _Example:_ `is_prime(6) == False`"
   ]
  },
  {
   "cell_type": "code",
   "execution_count": 164,
   "metadata": {},
   "outputs": [],
   "source": [
    "def is_prime(number):\n",
    "    factor_count=0\n",
    "    if number >=2:\n",
    "        for i in range(2, number):\n",
    "            if number % i ==0:\n",
    "                factor_count+=1 \n",
    "        if factor_count>0: \n",
    "            return False\n",
    "        else:\n",
    "            return True"
   ]
  },
  {
   "cell_type": "code",
   "execution_count": 168,
   "metadata": {},
   "outputs": [
    {
     "data": {
      "text/plain": [
       "False"
      ]
     },
     "execution_count": 168,
     "metadata": {},
     "output_type": "execute_result"
    }
   ],
   "source": [
    "is_prime(6)"
   ]
  },
  {
   "cell_type": "markdown",
   "metadata": {},
   "source": [
    "88) Write a function that takes in a number and returns the sum of all primes less than or equal to that number. You'll need your answer to the previous problem to answer this.\n",
    "* _Example:_ `sum_primes(11) == 2 + 3 + 5 + 7 + 11 == 28`\n",
    "* _Bonus:_ Can you do this in one line with a list comprehension?"
   ]
  },
  {
   "cell_type": "code",
   "execution_count": 173,
   "metadata": {},
   "outputs": [],
   "source": [
    "def sum_prime(number): \n",
    "    prime_count =0 \n",
    "    for i in range(2, number+1):\n",
    "        if is_prime(i) == True:\n",
    "            prime_count = prime_count + i\n",
    "    return prime_count"
   ]
  },
  {
   "cell_type": "code",
   "execution_count": 174,
   "metadata": {},
   "outputs": [
    {
     "data": {
      "text/plain": [
       "28"
      ]
     },
     "execution_count": 174,
     "metadata": {},
     "output_type": "execute_result"
    }
   ],
   "source": [
    "sum_prime(11)"
   ]
  },
  {
   "cell_type": "markdown",
   "metadata": {},
   "source": [
    "# Section VIII: What's next?"
   ]
  },
  {
   "cell_type": "markdown",
   "metadata": {},
   "source": [
    "## Section VIIIa: Virtual Practice\n",
    "\n",
    "Now that we've got a handle on the basics (and a few problems much more difficult than \"basic\"), what do we do next? If you'd like some more difficult challenges, sign up for [Codewars](https://www.codewars.com)! Codewars is a website in which you are repeatedly given coding challenges that get progressively more difficult. You earn XP and level up, giving you harder and harder problems. Below is an ever-updating list of coding challenges that we recommend. Some of them are Codewars challenges, some from other resources:"
   ]
  },
  {
   "cell_type": "markdown",
   "metadata": {},
   "source": [
    "* [Run-length Encoding](https://www.codewars.com/kata/run-length-encoding-1) (Codewars)\n",
    "* [Permutations](https://leetcode.com/problems/permutations/) (Leetcode)\n",
    "* [\"1-Dimensional Candy Crush\"](https://leetcode.com/discuss/interview-question/380650/bloomberg-phone-screen-candy-crush-1d) (Leetcode)"
   ]
  },
  {
   "cell_type": "markdown",
   "metadata": {},
   "source": [
    "## Section VIIIb: Real Interview Challenges\n",
    "Below are interesting challenges stolen directly from real interviews! These challenges have been reported from both GA students and GA instructors. If you find a good one in your future interviews, please come back and tell us! This section of the ladder is ever-updating."
   ]
  },
  {
   "cell_type": "markdown",
   "metadata": {},
   "source": [
    "### File Permissions\n",
    "In UNIX-like systems (eg, Mac and Linux), the permissions on certain files are given by short 9-character codes. These characters represent the read (**r**), write (**w**), and execute (**x**) permissions of the owner, assigned group, and all users, respectively. For example, the code\n",
    "\n",
    "`rwx------`\n",
    "\n",
    "means the file owner has all 3 kinds of permissions, but no one else can do anything. Another common code is \n",
    "\n",
    "`rwxr-xr-x`\n",
    "\n",
    "which means that everyone can read and execute the file, but only the owner has permission to write to it (that is, to change it). You can see these permissions yourself by typing `ls -l` from your command line!\n",
    "\n",
    "In order to further save space, these codes are often saved as a 3-digit number, where each digit corresponds to the sum of the values of `r`, `w`, and `x`. `r` is worth 4, `w` is worth 2, `x` is worth 1, and `-` is worth 0. For example, `rwx------` is shortened to the code `700`, and `rwxr-xr-x` is `755`.\n",
    "\n",
    "Your challenge is to write a function that shortens the \"permission string\" to its corresponding \"permission code\" (properly known as its \"octal notation\"). Please note that the output of your function should be an integer, not a string! You can assume the \"permission string\" is always valid.\n",
    "\n",
    "* _Example:_ `permissions_to_octa(\"rwxr-xr-x\") = 755`"
   ]
  },
  {
   "cell_type": "code",
   "execution_count": 72,
   "metadata": {},
   "outputs": [],
   "source": [
    "def permissions_to_octal(p):\n",
    "    \"\"\"Returns the 3-digit octal code given permissions string `p`, e.g. 'rwxr-xr-x' is 755.\"\"\"\n",
    "    pass"
   ]
  },
  {
   "cell_type": "markdown",
   "metadata": {},
   "source": [
    "### Grocery Bags\n",
    "A large grocery bag can hold 5 items, while a small grocery bag can hold only 1. The numbers of each size bag available may be limited. All items must be placed in a bag and each bag must be filled completely. For example, if we have 16 items, 2 large bags, and 10 small bags, 8 total bags are needed. 2 large bags + 6 small bags = 16 items in 8 bags.\n",
    "\n",
    "Write a function to calculate the **minimum** number of bags needed. If it's not possible to meet these conditions, return `-1`.\n",
    "\n",
    "* `min_bags(16, 2, 10) = 8`\n",
    "* `min_bags(20, 2, 2) = -1`"
   ]
  },
  {
   "cell_type": "code",
   "execution_count": null,
   "metadata": {},
   "outputs": [],
   "source": [
    "def min_bags(num_items, avail_large, avail_small):\n",
    "    \"\"\"\n",
    "    Return the least number of bags needed to hold `num_items` items, given there are only:\n",
    "        + `avail_large` 5-item bags, and \n",
    "        + `avail_small` 1-item bags.\n",
    "    \"\"\"\n",
    "    pass"
   ]
  }
 ],
 "metadata": {
  "kernelspec": {
   "display_name": "Python 3",
   "language": "python",
   "name": "python3"
  },
  "language_info": {
   "codemirror_mode": {
    "name": "ipython",
    "version": 3
   },
   "file_extension": ".py",
   "mimetype": "text/x-python",
   "name": "python",
   "nbconvert_exporter": "python",
   "pygments_lexer": "ipython3",
   "version": "3.7.6"
  }
 },
 "nbformat": 4,
 "nbformat_minor": 4
}
