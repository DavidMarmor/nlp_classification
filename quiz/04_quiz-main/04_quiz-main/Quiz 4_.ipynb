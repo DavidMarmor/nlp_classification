{
 "cells": [
  {
   "cell_type": "markdown",
   "metadata": {},
   "source": [
    "### Quiz 4: Conceptual Interview Questions\n",
    "\n",
    "As we get closer to the end of the course, we want to start prepping you for interviews. You will undoubtedly experience interviews where you are asked conceptual data science questions. This quiz is designed to evaluate your conceptual understanding of some of the major topics we've covered over the past few weeks. \n",
    "\n",
    "This is a **closed-book** quiz and you will have **60min** to complete it. \n",
    "\n",
    "Each question is worth 4 points. Partial credit will be given for answers that are partially correct.\n",
    "\n",
    "Good Luck!"
   ]
  },
  {
   "cell_type": "markdown",
   "metadata": {},
   "source": [
    "**Q1: Describe the benefits of using an ensemble model.**"
   ]
  },
  {
   "cell_type": "markdown",
   "metadata": {},
   "source": [
    "Ensemble models are used to increase the performance of decision trees or other machine learning models. Decision trees tend to have high overfitting and ensemble models tend to improve that and have a lower bias and variance.\n",
    "\n",
    "\n",
    "\n",
    "\n",
    "\n"
   ]
  },
  {
   "cell_type": "markdown",
   "metadata": {},
   "source": [
    "**Q2: How is a decision tree pruned?**"
   ]
  },
  {
   "cell_type": "markdown",
   "metadata": {},
   "source": [
    "We can prune decision trees by reducing the maximum depth and reducing the maximum number of leaf nodes. \n",
    "  \n",
    "  \n",
    "  "
   ]
  },
  {
   "cell_type": "markdown",
   "metadata": {},
   "source": [
    "**Q3: How can you combat overfitting and underfitting with neural networks?**"
   ]
  },
  {
   "cell_type": "markdown",
   "metadata": {},
   "source": [
    "To combat underfitting we can make the model more complex. To combat overfitting we can make the model less complex or add more data.\n",
    "\n",
    "\n",
    "\n"
   ]
  },
  {
   "cell_type": "markdown",
   "metadata": {},
   "source": [
    "**Q4: What does the Convolutional Layer in a Convolutional Neural Network do?**"
   ]
  },
  {
   "cell_type": "markdown",
   "metadata": {},
   "source": [
    "It converts all the pixels in an image to a single value for the purpose of modeling. \n"
   ]
  },
  {
   "cell_type": "markdown",
   "metadata": {},
   "source": [
    "**Q5: Compare and contrast KMeans and DBSCAN:**"
   ]
  },
  {
   "cell_type": "markdown",
   "metadata": {},
   "source": [
    "KMeans clusters points by looking at their closest neighboors. \n",
    "DBSCAn cluster points by looking at centers of density."
   ]
  },
  {
   "cell_type": "markdown",
   "metadata": {},
   "source": [
    "**Q6: What are the benefits of dimensionality reduction? What are its drawbacks?**"
   ]
  },
  {
   "cell_type": "markdown",
   "metadata": {},
   "source": [
    "The benifits are the data takes less space and the model runs faster. It could also help the model metrics. However some data is lost and if you already do not have a lot of data having less would be worse. It really depends on the dataset if the benefits are worth the drawbacks.  \n",
    "\n",
    "\n",
    "\n",
    "\n",
    "\n"
   ]
  }
 ],
 "metadata": {
  "kernelspec": {
   "display_name": "Python 3 (ipykernel)",
   "language": "python",
   "name": "python3"
  },
  "language_info": {
   "codemirror_mode": {
    "name": "ipython",
    "version": 3
   },
   "file_extension": ".py",
   "mimetype": "text/x-python",
   "name": "python",
   "nbconvert_exporter": "python",
   "pygments_lexer": "ipython3",
   "version": "3.9.7"
  }
 },
 "nbformat": 4,
 "nbformat_minor": 4
}
